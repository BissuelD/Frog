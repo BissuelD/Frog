{
 "cells": [
  {
   "cell_type": "code",
   "execution_count": null,
   "metadata": {},
   "outputs": [],
   "source": [
    "%reset -f\n",
    "import importlib\n",
    "import numpy as np\n",
    "import matplotlib.pyplot as plt\n",
    "\n",
    "import sys\n",
    "\n",
    "import Frog\n",
    "import Frog.toolbox as toolbox\n",
    "import Frog.frog_data_analysis as frog_data_analysis\n",
    "\n",
    "import pickle\n",
    "import time\n",
    "from scipy.optimize import curve_fit\n"
   ]
  },
  {
   "cell_type": "code",
   "execution_count": null,
   "metadata": {},
   "outputs": [],
   "source": [
    "def rotate_4th_order_tensor(base_changement, tensor):\n",
    "    ''''\n",
    "    This function transform a 4rd order tensor (3X3X3X3 matrix) from one base to another using a rotational matrix called base_changement.\n",
    "    If the base_changement is defined to be: vector_{lab} = base_changement . vector_{mol}\n",
    "    Then: tensor_{lab} = rotate_4th_order_tensor(base_changement.T, tensor_{mol})\n",
    "    Then: tensor_{mol} = rotate_4th_order_tensor(base_changement, tensor_{lab})\n",
    "    '''\n",
    "    tensor_new_base = np.zeros((3, 3, 3, 3))                \n",
    "    for i in range(0, 3, 1):\n",
    "        for j in range(0, 3, 1):\n",
    "            for k in range(0, 3, 1):\n",
    "                for l in range(0, 3, 1):\n",
    "                    for p in range(0, 3, 1):\n",
    "                        for m in range(0, 3, 1):\n",
    "                            for n in range(0, 3, 1):\n",
    "                                for o in range(0, 3, 1):\n",
    "                                    tensor_new_base[i][j][k][l] += base_changement[i][p]*base_changement[j][m]*base_changement[k][n]*base_changement[l][o]*tensor[p][m][n][o]\n",
    "    return(tensor_new_base)\n"
   ]
  },
  {
   "cell_type": "markdown",
   "metadata": {},
   "source": [
    "# Load the gamma"
   ]
  },
  {
   "cell_type": "markdown",
   "metadata": {},
   "source": [
    "In this example, several static field $E$ have been applied in the laboratory frame while the hyperpolarizability has been computed $\\chi[E]$. \n",
    "Hence, the second hyperpolarizability $\\Gamma$ in the laboratory frame is computed using the first hyperpolarizability (with extra electrostatic field) in the laboratory frame: \n",
    "\n",
    "$$\\chi[E] = \\chi[E=0] + \\Gamma . E$$"
   ]
  },
  {
   "cell_type": "code",
   "execution_count": null,
   "metadata": {},
   "outputs": [],
   "source": [
    "dir_ref = [WORK_DIR + 'MD/Water/Bulk/L_90/Analysis/Gamma/Ref'] # the result without extra electrostatic field\n",
    "\n",
    "L_electric_field = [0.0, 0.0001, 0.0002, 0.0004, 0.0008, 0.0012, 0.0015] # the electrostatic field applied in every direction\n",
    "dir_electro = WORK_DIR + 'MD/Water/Bulk/L_90/Analysis/Gamma' # Where are the calculation with extra electrostatic field \n",
    "\n",
    "N_molecule = 299 # the number of molecule where every QM calculations has been mde\n",
    "T_steps = 8 # the numùber of time step\n",
    "\n",
    "N_total = N_molecule*T_steps\n",
    "\n",
    "L_gamma_lab = np.zeros((N_total, 3, 3, 3, 3)) # the second hyperpolarizability in the laboratory frame\n",
    "L_gamma_mol = np.zeros((N_total, 3, 3, 3, 3))# the second hyperpolarizability in the molecular frame\n",
    "L_rot_mat = np.zeros((N_total, 3, 3)) # the rotational matrix of every molecule \n",
    "\n",
    "L_xyz = ['x', 'y', 'z']\n",
    "\n",
    "for TTT in range(0, T_steps, 1):\n",
    "    print('Time step:', TTT, 'over', T_steps)\n",
    "    # for static field along x,y and z\n",
    "    for lll in range(3):\n",
    "        L_chi_all = np.zeros((N_molecule, 3, 3, 3, len(L_electric_field)))\n",
    "        axis_electric_field = L_xyz[lll]\n",
    "        L_directory = [dir_ref] # the result without extra electrostatic field\n",
    "        for k in range(1, len(L_electric_field), 1):\n",
    "            L_directory.append(dir_electro + '/E_' + axis_electric_field + '_' + str(L_electric_field[k]))\n",
    "        # load the data \n",
    "        for K in range(0, len(L_electric_field), 1):\n",
    "            L_moleculetype_result = Frog.toolbox.open_pickle('L_moleculetype_' + str(TTT) + '.p', directory=L_directory[K] + '/Molecule_times')                    \n",
    "            for n in range(N_molecule):\n",
    "                for iii in range(3):\n",
    "                    for jjj in range(3):\n",
    "                        for kkk in range(3):\n",
    "                            L_chi_all[n][iii][jjj][kkk][K] = L_moleculetype_result[0].L_molecule[n].chi_0_05686[iii][jjj][kkk]\n",
    "        # perform linear fit: the slope is the second hyperpolarizability \n",
    "        for n in range(N_molecule):\n",
    "            for iii in range(3):\n",
    "                for jjj in range(3):\n",
    "                    for kkk in range(3):\n",
    "                        coeff = np.polyfit(L_electric_field, L_chi_all[n][iii][jjj][kkk], 1)\n",
    "                        L_gamma_lab[n+TTT*N_molecule][iii][jjj][kkk][lll] =  coeff[0]\n"
   ]
  },
  {
   "cell_type": "markdown",
   "metadata": {},
   "source": [
    "# From laboratory to molecular frame"
   ]
  },
  {
   "cell_type": "raw",
   "metadata": {},
   "source": [
    "Once we have the gamma in the laboratory frame, we can convert it into the molecular one using the rotational matrix of every molecule"
   ]
  },
  {
   "cell_type": "code",
   "execution_count": null,
   "metadata": {},
   "outputs": [],
   "source": [
    "for TTT in range(0, T_steps, 1):\n",
    "    print('Time step:', TTT, 'over', T_steps)\n",
    "    L_moleculetype_result = Frog.toolbox.open_pickle('L_moleculetype_' + str(TTT) + '.p', directory=dir_ref + '/Molecule_times')                    \n",
    "    for n in range(N_molecule):\n",
    "        L_rot_mat[n+TTT*N_molecule] = L_moleculetype_result[0].L_molecule[n].rot_mat\n",
    "        L_gamma_mol[n+TTT*N_molecule] = rotate_4th_order_tensor(L_rot_mat[n+TTT*N_molecule],  L_gamma_lab[n+TTT*N_molecule]) \n",
    "\n"
   ]
  }
 ],
 "metadata": {
  "kernelspec": {
   "display_name": "Python 3 (ipykernel)",
   "language": "python",
   "name": "python3"
  },
  "language_info": {
   "codemirror_mode": {
    "name": "ipython",
    "version": 3
   },
   "file_extension": ".py",
   "mimetype": "text/x-python",
   "name": "python",
   "nbconvert_exporter": "python",
   "pygments_lexer": "ipython3",
   "version": "3.10.12"
  }
 },
 "nbformat": 4,
 "nbformat_minor": 4
}
