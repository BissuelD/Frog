{
 "cells": [
  {
   "cell_type": "code",
   "execution_count": null,
   "metadata": {},
   "outputs": [],
   "source": [
    "# jupyter nbconvert --to python test_software_dev_version.ipynb test_software_dev_version.py\n",
    "%reset -f\n",
    "import importlib\n",
    "import numpy as np\n",
    "import matplotlib.pyplot as plt\n",
    "\n",
    "import sys\n",
    "\n",
    "import Frog\n",
    "import Frog.toolbox as toolbox\n",
    "import Frog.frog_data_analysis as frog_data_analysis\n",
    "# importlib.reload(frog_data_analysis)\n",
    "\n",
    "import pickle\n",
    "import time\n",
    "from scipy.optimize import curve_fit\n",
    "\n",
    "\n",
    "import matplotlib.cm as cm\n",
    "import matplotlib.pyplot as plt\n",
    "import matplotlib.cbook as cbook\n",
    "from matplotlib.path import Path\n",
    "from matplotlib.patches import PathPatch"
   ]
  },
  {
   "cell_type": "code",
   "execution_count": null,
   "metadata": {},
   "outputs": [],
   "source": [
    "\n",
    "directory = './'\n",
    "\n",
    "GP, L_moleculetype_result = frog_data_analysis.load_result(directory, name_result='L_moleculetype_result.p', what_to_print=['general info', 'diagram info'])\n"
   ]
  },
  {
   "cell_type": "markdown",
   "metadata": {},
   "source": [
    "# Density"
   ]
  },
  {
   "cell_type": "markdown",
   "metadata": {},
   "source": [
    "In the following the density along the z and x direction are plotted for the water and methanol molecule respectively. Since the MD simulation is supposed to be bulk liquid, the obtained result should not depend on any laboratory axis. Therefore, the fluctuation observed should be smaller as the number of treated frame is increased. "
   ]
  },
  {
   "cell_type": "markdown",
   "metadata": {},
   "source": [
    "## Water"
   ]
  },
  {
   "cell_type": "code",
   "execution_count": null,
   "metadata": {},
   "outputs": [],
   "source": [
    "MT_name = 'Water_TIP4P2005'\n",
    "name_diagram = 'density_slice_z'\n",
    "my_diagram = frog_data_analysis.return_diagram(GP, L_moleculetype_result, MT_name, name_diagram)\n",
    "\n",
    "plt.figure(1, figsize=(10, 7))\n",
    "plt.plot(my_diagram.axis_space.value, my_diagram.value/GP.nbr_time_step)\n",
    "plt.xlabel(r'Altitude [$' + my_diagram.axis_space.unit.print_unit() + ']$', fontsize=25)\n",
    "plt.ylabel(r'Density [$' + my_diagram.unit.print_unit() + ']$', fontsize=25)\n",
    "plt.xticks(fontsize=25)\n",
    "plt.yticks(fontsize=25)\n",
    "plt.legend(fontsize=25)\n",
    "plt.tight_layout(pad=1.0, w_pad=1.0, h_pad=1.0)"
   ]
  },
  {
   "cell_type": "code",
   "execution_count": null,
   "metadata": {},
   "outputs": [],
   "source": [
    "MT_name = 'Water_TIP4P2005'\n",
    "name_diagram = 'density_slice_z'\n",
    "my_diagram = frog_data_analysis.return_diagram(GP, L_moleculetype_result, MT_name, name_diagram)\n",
    "\n",
    "my_diagram.switch_unit_diagram('axis_space', 'length', 'nm', custom_change=False, molar_mass=False)\n",
    "my_diagram.switch_unit_diagram('distribution', 'population', 'kg', custom_change=False, molar_mass=18)\n",
    "my_diagram.switch_unit_diagram('distribution', 'length', 'dm', custom_change=False, molar_mass=False)\n",
    "\n",
    "density_water = np.mean(my_diagram.value/GP.nbr_time_step)\n",
    "\n",
    "plt.figure(1, figsize=(10, 7))\n",
    "plt.plot(my_diagram.axis_space.value, my_diagram.value/GP.nbr_time_step)\n",
    "plt.xlabel(r'Altitude [$' + my_diagram.axis_space.unit.print_unit() + ']$', fontsize=25)\n",
    "plt.ylabel(r'Density [$' + my_diagram.unit.print_unit() + ']$', fontsize=25)\n",
    "plt.xticks(fontsize=25)\n",
    "plt.yticks(fontsize=25)\n",
    "plt.legend(fontsize=25)\n",
    "plt.tight_layout(pad=1.0, w_pad=1.0, h_pad=1.0)\n",
    "\n",
    "\n",
    "print('Mean density mean for only the water:', density_water,  my_diagram.unit.print_unit())"
   ]
  },
  {
   "cell_type": "markdown",
   "metadata": {},
   "source": [
    "## Methanol"
   ]
  },
  {
   "cell_type": "code",
   "execution_count": null,
   "metadata": {},
   "outputs": [],
   "source": [
    "MT_name = 'Methanol_OPLSAA'\n",
    "name_diagram = 'density_slice_x'\n",
    "my_diagram = frog_data_analysis.return_diagram(GP, L_moleculetype_result, MT_name, name_diagram)\n",
    "\n",
    "plt.figure(1, figsize=(10, 7))\n",
    "plt.plot(my_diagram.axis_space.value, my_diagram.value/GP.nbr_time_step)\n",
    "plt.xlabel(r'Altitude [$' + my_diagram.axis_space.unit.print_unit() + ']$', fontsize=25)\n",
    "plt.ylabel(r'Density [$' + my_diagram.unit.print_unit() + ']$', fontsize=25)\n",
    "plt.xticks(fontsize=25)\n",
    "plt.yticks(fontsize=25)\n",
    "plt.legend(fontsize=25)\n",
    "plt.tight_layout(pad=1.0, w_pad=1.0, h_pad=1.0)"
   ]
  },
  {
   "cell_type": "code",
   "execution_count": null,
   "metadata": {},
   "outputs": [],
   "source": [
    "MT_name = 'Methanol_OPLSAA'\n",
    "name_diagram = 'density_slice_x'\n",
    "my_diagram = frog_data_analysis.return_diagram(GP, L_moleculetype_result, MT_name, name_diagram)\n",
    "\n",
    "\n",
    "my_diagram.switch_unit_diagram('axis_space', 'length', 'nm', custom_change=False, molar_mass=False)\n",
    "my_diagram.switch_unit_diagram('distribution', 'population', 'kg', custom_change=False, molar_mass=(12+16+4))\n",
    "my_diagram.switch_unit_diagram('distribution', 'length', 'dm', custom_change=False, molar_mass=False)\n",
    "\n",
    "density_methanol = np.mean(my_diagram.value/GP.nbr_time_step)\n",
    "\n",
    "\n",
    "plt.figure(1, figsize=(10, 7))\n",
    "plt.plot(my_diagram.axis_space.value, my_diagram.value/GP.nbr_time_step)\n",
    "plt.xlabel(r'Altitude [$' + my_diagram.axis_space.unit.print_unit() + ']$', fontsize=25)\n",
    "plt.ylabel(r'Density [$' + my_diagram.unit.print_unit() + ']$', fontsize=25)\n",
    "plt.xticks(fontsize=25)\n",
    "plt.yticks(fontsize=25)\n",
    "plt.legend(fontsize=25)\n",
    "plt.tight_layout(pad=1.0, w_pad=1.0, h_pad=1.0)\n",
    "\n",
    "print('Mean density mean for only the methanol:', density_methanol,  my_diagram.unit.print_unit())"
   ]
  },
  {
   "cell_type": "code",
   "execution_count": null,
   "metadata": {},
   "outputs": [],
   "source": [
    "print('Mean density mean for only the water:', density_water,  my_diagram.unit.print_unit())\n",
    "print('Mean density mean for only the methanol:', density_methanol,  my_diagram.unit.print_unit())\n",
    "print('Mean density for the whole system:', density_water + density_methanol,  my_diagram.unit.print_unit())"
   ]
  },
  {
   "cell_type": "markdown",
   "metadata": {},
   "source": [
    "# Molecular Orientation"
   ]
  },
  {
   "cell_type": "markdown",
   "metadata": {},
   "source": [
    "The molecular orientation is also not very meaningfull here: as it is a bulk simulation, there should be not preferential orientation for the water molecule or the methanol. To understand what is the ''molecular orientation'' of the water molecule and the methanol, see the relative molecular library file .py or the documentation. \n",
    "\n",
    "For instance, one can check this using the mean value. "
   ]
  },
  {
   "cell_type": "markdown",
   "metadata": {},
   "source": [
    "## Water "
   ]
  },
  {
   "cell_type": "code",
   "execution_count": null,
   "metadata": {},
   "outputs": [],
   "source": [
    "# To load \n",
    "MT_name = 'Water_TIP4P2005'\n",
    "name_diagram = 'molecular_orientation'\n",
    "my_diagram = frog_data_analysis.return_diagram(GP, L_moleculetype_result, MT_name, name_diagram)\n",
    "\n",
    "print('Mean value:', my_diagram.mean, 'sd: ', my_diagram.sd, 'unit: ', my_diagram.axis_observable.unit.print_unit())"
   ]
  },
  {
   "cell_type": "markdown",
   "metadata": {},
   "source": [
    "## Methanol"
   ]
  },
  {
   "cell_type": "code",
   "execution_count": null,
   "metadata": {},
   "outputs": [],
   "source": [
    "# To load \n",
    "MT_name = 'Water_TIP4P2005'\n",
    "name_diagram = 'molecular_orientation'\n",
    "my_diagram = frog_data_analysis.return_diagram(GP, L_moleculetype_result, MT_name, name_diagram)\n",
    "\n",
    "print('Mean value:', my_diagram.mean, 'sd: ', my_diagram.sd, 'unit: ', my_diagram.axis_observable.unit.print_unit())"
   ]
  },
  {
   "cell_type": "markdown",
   "metadata": {},
   "source": [
    "# H-bond"
   ]
  },
  {
   "cell_type": "markdown",
   "metadata": {},
   "source": [
    "The H-bond definition depends on the target molecule and the partner one. See the molecular library file for more information.\n",
    "\n",
    "The `diagram.value` associated with a H-bond analysis is the JOIN probability of having a number of own and given H-bond for the target molecule type with its partner one. \n",
    "\n",
    "As always, the first dimension is relative to the space discretization.\n",
    "The second record tghe number of own H-bond, and the third one record the given H-bond. \n",
    "\n",
    "For instance, the element: `my_diagram.value[0][1][2]` records the numbe of molecule with own 1 H-bond and give 2 H-bond. \n",
    "\n",
    "The `my_diagram.mean` provide the average value of own and given H-bond. \n",
    "\n"
   ]
  },
  {
   "cell_type": "markdown",
   "metadata": {},
   "source": [
    "## H-bond: water-water"
   ]
  },
  {
   "cell_type": "code",
   "execution_count": null,
   "metadata": {},
   "outputs": [],
   "source": [
    "# To load \n",
    "MT_name = 'Water_TIP4P2005'\n",
    "name_diagram = 'hbond_Water_TIP4P2005'\n",
    "# name_diagram = 'hbond_Methanol_OPLSAA'\n",
    "my_diagram = frog_data_analysis.return_diagram(GP, L_moleculetype_result, MT_name, name_diagram)\n",
    "# type(my_diagram)"
   ]
  },
  {
   "cell_type": "code",
   "execution_count": null,
   "metadata": {},
   "outputs": [],
   "source": [
    "altitude_of_interest = 0 # Here 0 because it is 'Averaged': no space discretization\n",
    "toplot =  my_diagram.value[altitude_of_interest]\n",
    "\n",
    "plt.figure(1, figsize=(10, 7))\n",
    "plt.plot(my_diagram.axis_observable.value, toplot.T[1], label='Hbond own with 1 Hbond given')\n",
    "plt.plot(my_diagram.axis_observable.value2, toplot[1], label='Hbond given with 1 Hbond own')\n",
    "plt.xlabel(my_diagram.axis_observable.unit.print_unit(), fontsize=25)\n",
    "plt.ylabel(r'Population [$' + my_diagram.unit.print_unit() + ']$', fontsize=25)\n",
    "plt.xticks(fontsize=25)\n",
    "plt.yticks(fontsize=25)\n",
    "plt.legend(fontsize=25)\n",
    "plt.tight_layout(pad=1.0, w_pad=1.0, h_pad=1.0)\n",
    "plt.title('H-bond between water-water', fontsize=25)"
   ]
  },
  {
   "cell_type": "code",
   "execution_count": null,
   "metadata": {},
   "outputs": [],
   "source": [
    "nbr_max_own = len(my_diagram.axis_observable.value)\n",
    "nbr_max_given = len(my_diagram.axis_observable.value2)\n",
    "\n",
    "L_h_bond_own = np.zeros(nbr_max_own)\n",
    "L_h_bond_given = np.zeros(nbr_max_given)\n",
    "\n",
    "\n",
    "for K_own in range(nbr_max_own):\n",
    "    for K_given in range(nbr_max_given): \n",
    "        L_h_bond_own[K_own] = L_h_bond_own[K_own] + my_diagram.value[0][K_own][K_given]\n",
    "        L_h_bond_given[K_given] = L_h_bond_given[K_given] + my_diagram.value[0][K_own][K_given]\n",
    "                  "
   ]
  },
  {
   "cell_type": "code",
   "execution_count": null,
   "metadata": {},
   "outputs": [],
   "source": [
    "plt.figure(1, figsize=(10, 7))\n",
    "plt.plot(my_diagram.axis_observable.value, L_h_bond_own, label='Own')\n",
    "plt.plot(my_diagram.axis_observable.value2, L_h_bond_given, label='Given')\n",
    "plt.xlabel(my_diagram.axis_observable.unit.print_unit(), fontsize=25)\n",
    "plt.ylabel(r'Population [$' + my_diagram.unit.print_unit() + ']$', fontsize=25)\n",
    "plt.xticks(fontsize=25)\n",
    "plt.yticks(fontsize=25)\n",
    "plt.legend(fontsize=25)\n",
    "plt.tight_layout(pad=1.0, w_pad=1.0, h_pad=1.0)\n",
    "plt.title('H-bond between water-water', fontsize=25)"
   ]
  },
  {
   "cell_type": "code",
   "execution_count": null,
   "metadata": {},
   "outputs": [],
   "source": [
    "print('Mean number of H-bond own by a Water molecule from another water molecule:', my_diagram.mean[0])\n",
    "print('Mean number of H-bond given by a Water molecule to another water molecule:', my_diagram.mean[1])\n",
    "print('Mean value:', my_diagram.mean, 'sd: ', my_diagram.sd, 'unit: ', my_diagram.axis_observable.unit.print_unit())\n",
    "\n",
    "H_total_wat_wat = my_diagram.mean[0] + my_diagram.mean[1]\n",
    "\n",
    "print('Total number of H-bond between Water molecules:', H_total_wat_wat)"
   ]
  },
  {
   "cell_type": "markdown",
   "metadata": {},
   "source": [
    "## H-bond: water-methanol"
   ]
  },
  {
   "cell_type": "code",
   "execution_count": null,
   "metadata": {},
   "outputs": [],
   "source": [
    "# To load \n",
    "MT_name = 'Water_TIP4P2005'\n",
    "name_diagram = 'hbond_Methanol_OPLSAA'\n",
    "my_diagram = frog_data_analysis.return_diagram(GP, L_moleculetype_result, MT_name, name_diagram)\n",
    "# type(my_diagram)"
   ]
  },
  {
   "cell_type": "code",
   "execution_count": null,
   "metadata": {},
   "outputs": [],
   "source": [
    "altitude_of_interest = 0 # Here 0 because it is 'Averaged': no space discretization\n",
    "toplot =  my_diagram.value[altitude_of_interest]\n",
    "\n",
    "plt.figure(1, figsize=(10, 7))\n",
    "plt.plot(my_diagram.axis_observable.value, toplot.T[1], label='Hbond own by water with 1 Hbond given to methanol')\n",
    "plt.plot(my_diagram.axis_observable.value2, toplot[1], label='Hbond given to methanol with 1 Hbond own by water')\n",
    "plt.xlabel(my_diagram.axis_observable.unit.print_unit(), fontsize=25)\n",
    "plt.ylabel(r'Population [$' + my_diagram.unit.print_unit() + ']$', fontsize=25)\n",
    "plt.xticks(fontsize=25)\n",
    "plt.yticks(fontsize=25)\n",
    "plt.legend(fontsize=20)\n",
    "plt.tight_layout(pad=1.0, w_pad=1.0, h_pad=1.0)\n",
    "plt.title('H-bond between water-methanol', fontsize=25)"
   ]
  },
  {
   "cell_type": "code",
   "execution_count": null,
   "metadata": {},
   "outputs": [],
   "source": [
    "nbr_max_own = len(my_diagram.axis_observable.value)\n",
    "nbr_max_given = len(my_diagram.axis_observable.value2)\n",
    "\n",
    "L_h_bond_own = np.zeros(nbr_max_own)\n",
    "L_h_bond_given = np.zeros(nbr_max_given)\n",
    "\n",
    "\n",
    "for K_own in range(nbr_max_own):\n",
    "    for K_given in range(nbr_max_given): \n",
    "        L_h_bond_own[K_own] = L_h_bond_own[K_own] + my_diagram.value[0][K_own][K_given]\n",
    "        L_h_bond_given[K_given] = L_h_bond_given[K_given] + my_diagram.value[0][K_own][K_given]\n",
    "            "
   ]
  },
  {
   "cell_type": "code",
   "execution_count": null,
   "metadata": {},
   "outputs": [],
   "source": [
    "plt.figure(1, figsize=(10, 7))\n",
    "plt.plot(my_diagram.axis_observable.value, L_h_bond_own, label='Own')\n",
    "plt.plot(my_diagram.axis_observable.value2, L_h_bond_given, label='Given')\n",
    "plt.xlabel(my_diagram.axis_observable.unit.print_unit(), fontsize=25)\n",
    "plt.ylabel(r'Population [$' + my_diagram.unit.print_unit() + ']$', fontsize=25)\n",
    "plt.xticks(fontsize=25)\n",
    "plt.yticks(fontsize=25)\n",
    "plt.legend(fontsize=25)\n",
    "plt.tight_layout(pad=1.0, w_pad=1.0, h_pad=1.0)\n",
    "plt.title('H-bond between water-methanol', fontsize=25)"
   ]
  },
  {
   "cell_type": "code",
   "execution_count": null,
   "metadata": {},
   "outputs": [],
   "source": [
    "print('Mean number of H-bond own by a Water molecule from a methanol molecule:', my_diagram.mean[0])\n",
    "print('Mean number of H-bond given by a Water molecule to a methanol molecule:', my_diagram.mean[1])\n",
    "print('Mean value:', my_diagram.mean, 'sd: ', my_diagram.sd, 'unit: ', my_diagram.axis_observable.unit.print_unit())\n",
    "\n",
    "H_total_wat_met = my_diagram.mean[0] + my_diagram.mean[1]\n",
    "\n",
    "print('Total number of H-bond between Water and Methanol molecules:', H_total_wat_met)\n"
   ]
  },
  {
   "cell_type": "markdown",
   "metadata": {},
   "source": [
    "## Methanol-Methanol"
   ]
  },
  {
   "cell_type": "code",
   "execution_count": null,
   "metadata": {},
   "outputs": [],
   "source": [
    "# To load \n",
    "MT_name = 'Methanol_OPLSAA'\n",
    "name_diagram = 'hbond_Methanol_OPLSAA'\n",
    "my_diagram = frog_data_analysis.return_diagram(GP, L_moleculetype_result, MT_name, name_diagram)\n",
    "# type(my_diagram)"
   ]
  },
  {
   "cell_type": "code",
   "execution_count": null,
   "metadata": {},
   "outputs": [],
   "source": [
    "altitude_of_interest = 0 # Here 0 because it is 'Averaged': no space discretization\n",
    "toplot =  my_diagram.value[altitude_of_interest]\n",
    "\n",
    "plt.figure(1, figsize=(10, 7))\n",
    "plt.plot(my_diagram.axis_observable.value, toplot.T[1], label='Hbond own by methanol with 1 Hbond given to methanol')\n",
    "plt.plot(my_diagram.axis_observable.value2, toplot[1], label='Hbond given to methanol with 1 Hbond own by methanol')\n",
    "plt.xlabel(my_diagram.axis_observable.unit.print_unit(), fontsize=25)\n",
    "plt.ylabel(r'Population [$' + my_diagram.unit.print_unit() + ']$', fontsize=25)\n",
    "plt.xticks(fontsize=25)\n",
    "plt.yticks(fontsize=25)\n",
    "plt.legend(fontsize=20)\n",
    "plt.tight_layout(pad=1.0, w_pad=1.0, h_pad=1.0)\n",
    "plt.title('H-bond between methanol-metanol', fontsize=25)"
   ]
  },
  {
   "cell_type": "code",
   "execution_count": null,
   "metadata": {},
   "outputs": [],
   "source": [
    "nbr_max_own = len(my_diagram.axis_observable.value)\n",
    "nbr_max_given = len(my_diagram.axis_observable.value2)\n",
    "\n",
    "L_h_bond_own = np.zeros(nbr_max_own)\n",
    "L_h_bond_given = np.zeros(nbr_max_given)\n",
    "\n",
    "\n",
    "for K_own in range(nbr_max_own):\n",
    "    for K_given in range(nbr_max_given): \n",
    "        L_h_bond_own[K_own] = L_h_bond_own[K_own] + my_diagram.value[0][K_own][K_given]\n",
    "        L_h_bond_given[K_given] = L_h_bond_given[K_given] + my_diagram.value[0][K_own][K_given]\n",
    "            "
   ]
  },
  {
   "cell_type": "code",
   "execution_count": null,
   "metadata": {},
   "outputs": [],
   "source": [
    "plt.figure(1, figsize=(10, 7))\n",
    "plt.plot(my_diagram.axis_observable.value, L_h_bond_own, label='Own')\n",
    "plt.plot(my_diagram.axis_observable.value2, L_h_bond_given, label='Given')\n",
    "plt.xlabel(my_diagram.axis_observable.unit.print_unit(), fontsize=25)\n",
    "plt.ylabel(r'Population [$' + my_diagram.unit.print_unit() + ']$', fontsize=25)\n",
    "plt.xticks(fontsize=25)\n",
    "plt.yticks(fontsize=25)\n",
    "plt.legend(fontsize=25)\n",
    "plt.tight_layout(pad=1.0, w_pad=1.0, h_pad=1.0)\n",
    "plt.title('H-bond between methanol-methanol', fontsize=25)"
   ]
  },
  {
   "cell_type": "code",
   "execution_count": null,
   "metadata": {},
   "outputs": [],
   "source": [
    "print('Mean number of H-bond own by a methanol molecule from a methanol molecule:', my_diagram.mean[0])\n",
    "print('Mean number of H-bond given by a methanol molecule to a methanol molecule:', my_diagram.mean[1])\n",
    "print('Mean value:', my_diagram.mean, 'sd: ', my_diagram.sd, 'unit: ', my_diagram.axis_observable.unit.print_unit())\n",
    "\n",
    "H_total_met_met = my_diagram.mean[0] + my_diagram.mean[1]\n",
    "\n",
    "print('Total number of H-bond between methanol and Methanol molecules:', H_total_met_met)\n"
   ]
  },
  {
   "cell_type": "markdown",
   "metadata": {},
   "source": [
    "## All the molecules"
   ]
  },
  {
   "cell_type": "code",
   "execution_count": null,
   "metadata": {},
   "outputs": [],
   "source": [
    "print('The water molecule are involves in ' + str(H_total_wat_met + H_total_wat_wat) + ' H bond in averaged')\n",
    "print('The methanol molecule are involves in ' + str(H_total_wat_met + H_total_met_met) + ' H bond in averaged')"
   ]
  },
  {
   "cell_type": "markdown",
   "metadata": {},
   "source": [
    "## RDF"
   ]
  },
  {
   "cell_type": "markdown",
   "metadata": {},
   "source": [
    "The RDF return by Frog is not normalised to the density. Therefore, in order to have meaningfull value, you should also perform a density analysis for each MT. "
   ]
  },
  {
   "cell_type": "markdown",
   "metadata": {},
   "source": [
    "## Water-Water"
   ]
  },
  {
   "cell_type": "code",
   "execution_count": null,
   "metadata": {},
   "outputs": [],
   "source": [
    "# To load \n",
    "MT_name = 'Water_TIP4P2005'\n",
    "name_diagram = 'rdf_Water_TIP4P2005'\n",
    "my_diagram = frog_data_analysis.return_diagram(GP, L_moleculetype_result, MT_name, name_diagram)"
   ]
  },
  {
   "cell_type": "code",
   "execution_count": null,
   "metadata": {},
   "outputs": [],
   "source": [
    "plt.figure(1, figsize=(10, 7))\n",
    "plt.plot(my_diagram.axis_observable.value, my_diagram.value[0])\n",
    "plt.xlabel('Distance between the mean position [' + my_diagram.axis_observable.unit.print_unit() + ']', fontsize=25)\n",
    "plt.ylabel('Population [' + my_diagram.unit.print_unit() + ']', fontsize=25)\n",
    "plt.xticks(fontsize=25)\n",
    "plt.yticks(fontsize=25)\n",
    "plt.tight_layout(pad=1.0, w_pad=1.0, h_pad=1.0)\n",
    "plt.title('Raw RDF for water-water', fontsize=25)"
   ]
  },
  {
   "cell_type": "markdown",
   "metadata": {},
   "source": [
    "To normalize the RDF, load the density of the PARTNER molecule:"
   ]
  },
  {
   "cell_type": "code",
   "execution_count": null,
   "metadata": {},
   "outputs": [],
   "source": [
    "# Normalisation: \n",
    "# To load \n",
    "MT_name = 'Water_TIP4P2005'\n",
    "name_diagram = 'density_slice_z'\n",
    "my_diagram_density = frog_data_analysis.return_diagram(GP, L_moleculetype_result, MT_name, name_diagram)\n",
    "\n",
    "# make sure its the good unit: the density in Molecule.A^-3\n",
    "my_diagram_density.switch_unit_diagram('axis_space', 'length', 'A', custom_change=False, molar_mass=False)\n",
    "my_diagram_density.switch_unit_diagram('distribution', 'population', 'Molecule', custom_change=False, molar_mass=18)\n",
    "my_diagram_density.switch_unit_diagram('distribution', 'length', 'A', custom_change=False, molar_mass=False)\n",
    "\n",
    "density_mean = np.sum(my_diagram_density.value/GP.nbr_time_step)/len(my_diagram_density.value)\n",
    "print(density_mean, my_diagram_density.unit.print_unit())\n",
    "\n",
    "\n",
    "d_molecules = my_diagram.axis_observable.value\n",
    "L_volume_wrt_d = ((4*np.pi*d_molecules**2)*(d_molecules[1]-d_molecules[0])) # 4 \\pi R^2 dR \n",
    "\n",
    "L_homogenous_rdf = density_mean*L_volume_wrt_d # in number of molecule\n",
    "L_homogenous_rdf[0] = 10**-10 # to avoid division per zero\n",
    "\n",
    "L_x_rdf_water_water = my_diagram.axis_observable.value\n",
    "normalized_rdf_water_water = my_diagram.value[0]/L_homogenous_rdf/my_diagram.population\n",
    "\n"
   ]
  },
  {
   "cell_type": "code",
   "execution_count": null,
   "metadata": {},
   "outputs": [],
   "source": [
    "plt.figure(1, figsize=(10, 7))\n",
    "plt.plot(my_diagram.axis_observable.value, normalized_rdf_water_water)\n",
    "plt.xlabel('Distance between the mean position [' + my_diagram.axis_observable.unit.print_unit() + ']', fontsize=25)\n",
    "plt.ylabel('RDF', fontsize=25)\n",
    "plt.xticks(fontsize=25)\n",
    "plt.yticks(fontsize=25)\n",
    "plt.tight_layout(pad=1.0, w_pad=1.0, h_pad=1.0)\n",
    "plt.title('Normalized RDF for water-water', fontsize=25)"
   ]
  },
  {
   "cell_type": "markdown",
   "metadata": {},
   "source": [
    "## Water-Methanol"
   ]
  },
  {
   "cell_type": "code",
   "execution_count": null,
   "metadata": {},
   "outputs": [],
   "source": [
    "# To load \n",
    "MT_name = 'Water_TIP4P2005'\n",
    "name_diagram = 'rdf_Methanol_OPLSAA'\n",
    "my_diagram = frog_data_analysis.return_diagram(GP, L_moleculetype_result, MT_name, name_diagram)\n"
   ]
  },
  {
   "cell_type": "code",
   "execution_count": null,
   "metadata": {},
   "outputs": [],
   "source": [
    "plt.figure(1, figsize=(10, 7))\n",
    "plt.plot(my_diagram.axis_observable.value, my_diagram.value[0])\n",
    "plt.xlabel('Distance between the mean position [' + my_diagram.axis_observable.unit.print_unit() + ']', fontsize=25)\n",
    "plt.ylabel('Population [' + my_diagram.unit.print_unit() + ']', fontsize=25)\n",
    "plt.xticks(fontsize=25)\n",
    "plt.yticks(fontsize=25)\n",
    "plt.tight_layout(pad=1.0, w_pad=1.0, h_pad=1.0)\n",
    "plt.title('Raw RDF for water-methanol', fontsize=25)"
   ]
  },
  {
   "cell_type": "code",
   "execution_count": null,
   "metadata": {},
   "outputs": [],
   "source": [
    "# Normalisation: \n",
    "# To load \n",
    "MT_name = 'Methanol_OPLSAA'\n",
    "name_diagram = 'density_slice_x'\n",
    "my_diagram_density = frog_data_analysis.return_diagram(GP, L_moleculetype_result, MT_name, name_diagram)\n",
    "\n",
    "# make sure its the good unit: the density in Molecule.A^-3\n",
    "my_diagram_density.switch_unit_diagram('axis_space', 'length', 'A', custom_change=False, molar_mass=False)\n",
    "my_diagram_density.switch_unit_diagram('distribution', 'population', 'Molecule', custom_change=False, molar_mass=18)\n",
    "my_diagram_density.switch_unit_diagram('distribution', 'length', 'A', custom_change=False, molar_mass=False)\n",
    "\n",
    "density_mean = np.sum(my_diagram_density.value/GP.nbr_time_step)/len(my_diagram_density.value)\n",
    "print(density_mean, my_diagram_density.unit.print_unit())\n",
    "\n",
    "\n",
    "d_molecules = my_diagram.axis_observable.value\n",
    "L_volume_wrt_d = ((4*np.pi*d_molecules**2)*(d_molecules[1]-d_molecules[0])) # 4 \\pi R^2 dR \n",
    "\n",
    "L_homogenous_rdf = density_mean*L_volume_wrt_d # in number of molecule\n",
    "L_homogenous_rdf[0] = 10**-10 # to avoid division per zero\n",
    "\n",
    "L_x_rdf_water_methanol = my_diagram.axis_observable.value\n",
    "normalized_rdf_water_methanol = my_diagram.value[0]/L_homogenous_rdf/my_diagram.population\n",
    "\n"
   ]
  },
  {
   "cell_type": "code",
   "execution_count": null,
   "metadata": {},
   "outputs": [],
   "source": [
    "plt.figure(1, figsize=(10, 7))\n",
    "plt.plot(my_diagram.axis_observable.value, normalized_rdf_water_methanol)\n",
    "plt.xlabel('Distance between the mean position [' + my_diagram.axis_observable.unit.print_unit() + ']', fontsize=25)\n",
    "plt.ylabel('RDF', fontsize=25)\n",
    "plt.xticks(fontsize=25)\n",
    "plt.yticks(fontsize=25)\n",
    "plt.tight_layout(pad=1.0, w_pad=1.0, h_pad=1.0)\n",
    "plt.title('Normalized RDF for water-methanol', fontsize=25)"
   ]
  },
  {
   "cell_type": "markdown",
   "metadata": {},
   "source": [
    "## Methanol-Methanol"
   ]
  },
  {
   "cell_type": "code",
   "execution_count": null,
   "metadata": {},
   "outputs": [],
   "source": [
    "# To load \n",
    "MT_name = 'Methanol_OPLSAA'\n",
    "name_diagram = 'rdf_Methanol_OPLSAA'\n",
    "my_diagram = frog_data_analysis.return_diagram(GP, L_moleculetype_result, MT_name, name_diagram)\n"
   ]
  },
  {
   "cell_type": "code",
   "execution_count": null,
   "metadata": {},
   "outputs": [],
   "source": [
    "plt.figure(1, figsize=(10, 7))\n",
    "plt.plot(my_diagram.axis_observable.value, my_diagram.value[0])\n",
    "plt.xlabel('Distance between the mean position [' + my_diagram.axis_observable.unit.print_unit() + ']', fontsize=25)\n",
    "plt.ylabel('Population [' + my_diagram.unit.print_unit() + ']', fontsize=25)\n",
    "plt.xticks(fontsize=25)\n",
    "plt.yticks(fontsize=25)\n",
    "plt.tight_layout(pad=1.0, w_pad=1.0, h_pad=1.0)\n",
    "plt.title('Raw RDF for water-methanol', fontsize=25)"
   ]
  },
  {
   "cell_type": "code",
   "execution_count": null,
   "metadata": {},
   "outputs": [],
   "source": [
    "# Normalisation: \n",
    "# To load \n",
    "MT_name = 'Methanol_OPLSAA'\n",
    "name_diagram = 'density_slice_x'\n",
    "my_diagram_density = frog_data_analysis.return_diagram(GP, L_moleculetype_result, MT_name, name_diagram)\n",
    "\n",
    "# make sure its the good unit: the density in Molecule.A^-3\n",
    "my_diagram_density.switch_unit_diagram('axis_space', 'length', 'A', custom_change=False, molar_mass=False)\n",
    "my_diagram_density.switch_unit_diagram('distribution', 'population', 'Molecule', custom_change=False, molar_mass=18)\n",
    "my_diagram_density.switch_unit_diagram('distribution', 'length', 'A', custom_change=False, molar_mass=False)\n",
    "\n",
    "density_mean = np.sum(my_diagram_density.value/GP.nbr_time_step)/len(my_diagram_density.value)\n",
    "print(density_mean, my_diagram_density.unit.print_unit())\n",
    "\n",
    "\n",
    "d_molecules = my_diagram.axis_observable.value\n",
    "L_volume_wrt_d = ((4*np.pi*d_molecules**2)*(d_molecules[1]-d_molecules[0])) # 4 \\pi R^2 dR \n",
    "\n",
    "L_homogenous_rdf = density_mean*L_volume_wrt_d # in number of molecule\n",
    "L_homogenous_rdf[0] = 10**-10 # to avoid division per zero\n",
    "\n",
    "L_x_rdf_methanol_methanol = my_diagram.axis_observable.value\n",
    "normalized_rdf_methanol_methanol = my_diagram.value[0]/L_homogenous_rdf/my_diagram.population\n",
    "\n"
   ]
  },
  {
   "cell_type": "code",
   "execution_count": null,
   "metadata": {},
   "outputs": [],
   "source": [
    "plt.figure(1, figsize=(10, 7))\n",
    "plt.plot(my_diagram.axis_observable.value, normalized_rdf_methanol_methanol)\n",
    "plt.xlabel('Distance between the mean position [' + my_diagram.axis_observable.unit.print_unit() + ']', fontsize=25)\n",
    "plt.ylabel('RDF', fontsize=25)\n",
    "plt.xticks(fontsize=25)\n",
    "plt.yticks(fontsize=25)\n",
    "plt.tight_layout(pad=1.0, w_pad=1.0, h_pad=1.0)\n",
    "plt.title('Normalized RDF for methanol-methanol', fontsize=25)"
   ]
  },
  {
   "cell_type": "markdown",
   "metadata": {},
   "source": [
    "## For water:"
   ]
  },
  {
   "cell_type": "code",
   "execution_count": null,
   "metadata": {},
   "outputs": [],
   "source": [
    "plt.figure(1, figsize=(10, 7))\n",
    "plt.plot(L_x_rdf_water_water, normalized_rdf_water_water, label='Water')\n",
    "plt.plot(L_x_rdf_water_methanol, normalized_rdf_water_methanol, label='Methanol')\n",
    "plt.xlabel('Distance between the mean position [' + my_diagram.axis_observable.unit.print_unit() + ']', fontsize=25)\n",
    "plt.ylabel('RDF', fontsize=25)\n",
    "plt.xticks(fontsize=25)\n",
    "plt.yticks(fontsize=25)\n",
    "plt.legend(fontsize=25)\n",
    "plt.tight_layout(pad=1.0, w_pad=1.0, h_pad=1.0)\n",
    "plt.title('Normalized RDF for Water', fontsize=25)"
   ]
  },
  {
   "cell_type": "code",
   "execution_count": null,
   "metadata": {},
   "outputs": [],
   "source": [
    "plt.figure(1, figsize=(10, 7))\n",
    "plt.plot(L_x_rdf_water_methanol, normalized_rdf_water_methanol, label='Water')\n",
    "plt.plot(L_x_rdf_methanol_methanol, normalized_rdf_methanol_methanol, label='Methanol')\n",
    "plt.xlabel('Distance between the mean position [' + my_diagram.axis_observable.unit.print_unit() + ']', fontsize=25)\n",
    "plt.ylabel('RDF', fontsize=25)\n",
    "plt.xticks(fontsize=25)\n",
    "plt.yticks(fontsize=25)\n",
    "plt.legend(fontsize=25)\n",
    "plt.tight_layout(pad=1.0, w_pad=1.0, h_pad=1.0)\n",
    "plt.title('Normalized RDF for Methanol', fontsize=25)"
   ]
  },
  {
   "cell_type": "code",
   "execution_count": null,
   "metadata": {},
   "outputs": [],
   "source": []
  },
  {
   "cell_type": "code",
   "execution_count": null,
   "metadata": {},
   "outputs": [],
   "source": []
  },
  {
   "cell_type": "code",
   "execution_count": null,
   "metadata": {},
   "outputs": [],
   "source": []
  },
  {
   "cell_type": "code",
   "execution_count": null,
   "metadata": {},
   "outputs": [],
   "source": []
  },
  {
   "cell_type": "code",
   "execution_count": null,
   "metadata": {},
   "outputs": [],
   "source": []
  },
  {
   "cell_type": "code",
   "execution_count": null,
   "metadata": {},
   "outputs": [],
   "source": []
  }
 ],
 "metadata": {
  "kernelspec": {
   "display_name": "frog",
   "language": "python",
   "name": "frog"
  },
  "language_info": {
   "codemirror_mode": {
    "name": "ipython",
    "version": 3
   },
   "file_extension": ".py",
   "mimetype": "text/x-python",
   "name": "python",
   "nbconvert_exporter": "python",
   "pygments_lexer": "ipython3",
   "version": "3.11.2"
  }
 },
 "nbformat": 4,
 "nbformat_minor": 4
}
