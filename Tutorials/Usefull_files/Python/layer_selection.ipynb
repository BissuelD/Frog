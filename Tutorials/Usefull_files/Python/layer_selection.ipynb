{
 "cells": [
  {
   "cell_type": "code",
   "execution_count": null,
   "metadata": {},
   "outputs": [],
   "source": [
    "import MDAnalysis \n",
    "import pytim\n",
    "from   pytim.datafiles import *\n",
    "\n",
    "\n"
   ]
  },
  {
   "cell_type": "markdown",
   "metadata": {},
   "source": [
    "# Basis example"
   ]
  },
  {
   "cell_type": "code",
   "execution_count": null,
   "metadata": {},
   "outputs": [],
   "source": [
    "# load an example configuration file\n",
    "u         = MDAnalysis.Universe(WATER_GRO)\n",
    "\n",
    "# initialize the interface, this has to be called only once\n",
    "# before iterating over the trajectory!\n",
    "interface = pytim.ITIM(u, max_layers=4)\n",
    "\n",
    "# write a pdb with the information on the surface layers\n",
    "interface.writepdb('layers.pdb',centered='middle')\n",
    "\n",
    "# access the atoms in the layers as an MDAnalysis' AtomGroups\n",
    "upper_layer = interface.layers[0,0]\n",
    "\n",
    "\n",
    "print(upper_layer.resids)"
   ]
  },
  {
   "cell_type": "markdown",
   "metadata": {},
   "source": [
    "# More complexe one"
   ]
  },
  {
   "cell_type": "markdown",
   "metadata": {},
   "source": [
    "Here we want to be able to define the radii of every atom in every molecule. \n",
    "The following part works, in the following we want to be able to save the topology file."
   ]
  },
  {
   "cell_type": "code",
   "execution_count": null,
   "metadata": {},
   "outputs": [],
   "source": [
    "directory = './2D_40/'\n",
    "\n",
    "# load an example configuration file\n",
    "u = MDAnalysis.Universe(directory + 'first_equi.data')\n",
    "#print(u.residues[0].atoms.types)\n",
    "#print(u.residues[1260].atoms.types)\n",
    "\n",
    "u.add_TopologyAttr('names')\n",
    "u.add_TopologyAttr('types')\n",
    "u.add_TopologyAttr('radii')\n",
    "u.add_TopologyAttr('resnames')\n",
    "\n",
    "for i in range(0, 1200, 1):\n",
    "    u.residues[i].atoms.names = ['Oabcdefg', 'H', 'H']\n",
    "    u.residues[i].atoms.types = ['O123456789', 'H', 'H']\n",
    "    u.residues[i].atoms.radii = [0.8, 0.71, 0.72]\n",
    "    u.select_atoms('resid ' + str(i)).residues.resnames = 'Wat'\n",
    "    \n",
    "for i in range(1200, 2000, 1):\n",
    "    u.residues[i].atoms.names = ['O', 'H', 'C', 'H', 'H', 'H']\n",
    "    u.residues[i].atoms.types = ['O', 'H', 'C', 'H', 'H', 'H']\n",
    "    u.residues[i].atoms.radii = [1.4, 1.6, 1.1, 1.41, 1.45, 1.46]\n",
    "    u.select_atoms('resid ' + str(i)).residues.resnames = 'Met'\n",
    "\n",
    "#with MDAnalysis.coordinates.LAMMPS.DATAWriter('my_topology.data') as Towrite:\n",
    "#    Towrite.write(u)\n",
    "print('before 1')\n",
    "print(u.residues[0].atoms.radii)\n",
    "print(u.residues[1979].atoms.radii)\n",
    "\n",
    "interface = pytim.ITIM(u, max_layers=4, warnings=True)\n",
    "upper_layer = interface.layers[0,1]\n",
    "print(upper_layer.resids)\n",
    "interface.writepdb('layers_1.pdb',centered='middle')\n",
    "\n",
    "print('after 1')\n",
    "print(u.residues[0].atoms.radii)\n",
    "print(u.residues[1979].atoms.radii)\n",
    "\n",
    "for i in range(0, 1200, 1):\n",
    "    u.residues[i].atoms.names = ['Oabcdefg', 'H', 'H']\n",
    "    u.residues[i].atoms.types = ['O123456789', 'H', 'H']\n",
    "    u.residues[i].atoms.radii = [2., 0.0, 0.0]\n",
    "    \n",
    "for i in range(1200, 2000, 1):\n",
    "    u.residues[i].atoms.names = ['O', 'H', 'C', 'H', 'H', 'H']\n",
    "    u.residues[i].atoms.types = ['O', 'H', 'C', 'H', 'H', 'H']\n",
    "    u.residues[i].atoms.radii = [3.0, 0.0, 3.0, 1.5, 1.5, 1.5]\n",
    "\n",
    "print('before 2')\n",
    "print(u.residues[0].atoms.radii)\n",
    "print(u.residues[1979].atoms.radii)\n",
    "\n",
    "interface = pytim.ITIM(u, max_layers=4, warnings=True)\n",
    "upper_layer = interface.layers[0,1]\n",
    "print(upper_layer.resids)\n",
    "interface.writepdb('layers_2.pdb',centered='middle')\n",
    "\n",
    "print('after 2')\n",
    "print(u.residues[0].atoms.radii)\n",
    "print(u.residues[1979].atoms.radii)\n",
    "    "
   ]
  },
  {
   "cell_type": "markdown",
   "metadata": {},
   "source": [
    "Save the topology with the radii: use `.pqr` format:"
   ]
  },
  {
   "cell_type": "code",
   "execution_count": null,
   "metadata": {},
   "outputs": [],
   "source": [
    "directory = './2D_40/'\n",
    "# load an example configuration file\n",
    "u = MDAnalysis.Universe(directory + 'first_equi.data')\n",
    "#print(u.residues[0].atoms.types)\n",
    "#print(u.residues[1260].atoms.types)\n",
    "\n",
    "#u.add_TopologyAttr('names')\n",
    "u.add_TopologyAttr('radii')\n",
    "\n",
    "for i in range(0, 1200, 1):\n",
    "    #u.residues[i].atoms.names = ['Oabcdefg', 'H', 'H']\n",
    "    u.residues[i].atoms.radii = [0.8, 0.71, 0.72]\n",
    "    \n",
    "for i in range(1200, 2000, 1):\n",
    "#    u.residues[i].atoms.names = ['O', 'H', 'C', 'H', 'H', 'H']\n",
    "    u.residues[i].atoms.radii = [1.4, 1.6, 1.1, 1.41, 1.45, 1.46]\n",
    "\n",
    "#with MDAnalysis.coordinates.LAMMPS.DATAWriter('my_topology.data') as Towrite:\n",
    "#    Towrite.write(u)\n",
    "\n",
    "with MDAnalysis.coordinates.PQR.PQRWriter('my_topology.pqr') as Towrite:\n",
    "    Towrite.write(u)\n"
   ]
  },
  {
   "cell_type": "markdown",
   "metadata": {},
   "source": [
    "Open the new topology file\n",
    "Note that the pqr format does not contain the box size. "
   ]
  },
  {
   "cell_type": "code",
   "execution_count": null,
   "metadata": {},
   "outputs": [],
   "source": [
    "import pytim\n",
    "import MDAnalysis \n",
    "\n",
    "u = MDAnalysis.Universe('my_topology.pqr', './2D_40/first_equi.data')\n",
    "\n",
    "print(u.residues[0].atoms.types, u.residues[0].atoms.names, u.residues[0].atoms.radii)\n",
    "print(u.residues[1979].atoms.radii)\n",
    "\n",
    "interface = pytim.ITIM(u, max_layers=4, warnings=True)\n",
    "\n",
    "#pytim.ITIM(u, radii_dict={'O':1.14})\n",
    "#interface = pytim.ITIM(u, max_layers=4,  warnings=True)\n",
    "\n",
    "\n",
    "print(u.residues[0].atoms.radii)\n",
    "print(u.residues[1979].atoms.radii)"
   ]
  },
  {
   "cell_type": "markdown",
   "metadata": {},
   "source": [
    "To redefine  the radii in the `pytim` module:"
   ]
  },
  {
   "cell_type": "code",
   "execution_count": null,
   "metadata": {},
   "outputs": [],
   "source": [
    "mydict    = {'O':1.14 , 'H':0.0 , 'C':1.5 , 'H':0.0 , 'H':1.6 , 'H':0.0} # where 'H' refers to the type\n",
    "interface = pytim.ITIM(u, max_layers=4, radii_dict=mydict, warnings=True)\n",
    "\n"
   ]
  },
  {
   "cell_type": "markdown",
   "metadata": {},
   "source": [
    "# Print the layer number"
   ]
  },
  {
   "cell_type": "code",
   "execution_count": null,
   "metadata": {},
   "outputs": [],
   "source": [
    "import pytim\n",
    "import MDAnalysis \n",
    "\n",
    "directory = '../../Traj/Tuto_get_strated/'\n",
    "u = MDAnalysis.Universe(directory + 'system.data', directory + 'traj_get_strated.dcd')\n",
    "\n",
    "# u.add_TopologyAttr('names')\n",
    "u.add_TopologyAttr('radii')\n",
    "\n",
    "for i in range(0, len(u.residues[:]), 1):\n",
    "    #u.residues[i].atoms.names = ['O', 'H', 'H']\n",
    "    u.residues[i].atoms.types = ['O', 'H', 'H']\n",
    "    u.residues[i].atoms.radii = [0.8, 0.71, 0.72]\n",
    "    \n",
    "print(u.residues[0].atoms.types, u.residues[0].atoms.radii)\n",
    "#print(u.residues[1979].atoms.radii)\n",
    "\n",
    "nbr_layer = 5\n",
    "interface = pytim.ITIM(u, max_layers=nbr_layer, warnings=True)\n",
    "\n",
    "\n",
    "for k in range(0, nbr_layer, 1):\n",
    "    upper_layer = interface.layers[0,k]\n",
    "    print(upper_layer.resids)\n",
    "    iii = 0\n",
    "    while iii < len(upper_layer.resids):\n",
    "        nbr_resid = upper_layer.resids[iii]\n",
    "        print(nbr_resid)\n",
    "        while iii < len(upper_layer.resids) and nbr_resid == upper_layer.resids[iii]:\n",
    "            iii += 1\n",
    "            "
   ]
  },
  {
   "cell_type": "code",
   "execution_count": null,
   "metadata": {},
   "outputs": [],
   "source": [
    "for i in range(0, len(u.residues[:]), 1):\n",
    "    print('resid', i, 'layer', u.residues[i].atoms.layers[0], 'side', u.residues[i].atoms.sides[0])"
   ]
  },
  {
   "cell_type": "code",
   "execution_count": null,
   "metadata": {},
   "outputs": [],
   "source": [
    "i = 145\n",
    "print('resid', i, 'layer', u.residues[i].atoms.layers[0], 'side', u.residues[i].atoms.sides[0])\n",
    "print('resid', i, 'layer', 4+2-u.residues[i].atoms.layers[0], 'side', u.residues[i].atoms.sides[0])\n",
    "\n",
    "i = 147\n",
    "print('resid', i, 'layer', u.residues[i].atoms.layers[0], 'side', u.residues[i].atoms.sides[0])\n",
    "print('resid', i, 'layer', 4+2-u.residues[i].atoms.layers[0], 'side', u.residues[i].atoms.sides[0])\n",
    "\n",
    "i = 149\n",
    "print('resid', i, 'layer', u.residues[i].atoms.layers[0], 'side', u.residues[i].atoms.sides[0])\n",
    "print('resid', i, 'layer', 4+2-u.residues[i].atoms.layers[0], 'side', u.residues[i].atoms.sides[0])\n",
    "\n",
    "i = 182\n",
    "print('resid', i, 'layer', u.residues[i].atoms.layers[0], 'side', u.residues[i].atoms.sides[0])\n",
    "print('resid', i, 'layer', 4+2-u.residues[i].atoms.layers[0], 'side', u.residues[i].atoms.sides[0])\n",
    "\n",
    "i = 191\n",
    "print('resid', i, 'layer', u.residues[i].atoms.layers[0], 'side', u.residues[i].atoms.sides[0])\n",
    "print('resid', i, 'layer', 4+2-u.residues[i].atoms.layers[0], 'side', u.residues[i].atoms.sides[0])\n"
   ]
  },
  {
   "cell_type": "code",
   "execution_count": null,
   "metadata": {},
   "outputs": [],
   "source": [
    "for k in range(0, nbr_layer, 1):\n",
    "    upper_layer = interface.layers[0,k]\n",
    "    print(upper_layer.resids)\n",
    "    iii = 0\n",
    "    while iii < len(upper_layer.resids):\n",
    "        nbr_resid = upper_layer.resids[iii]\n",
    "        print(nbr_resid)\n",
    "        while iii < len(upper_layer.resids) and nbr_resid == upper_layer.resids[iii]:\n",
    "            iii += 1"
   ]
  },
  {
   "cell_type": "code",
   "execution_count": null,
   "metadata": {},
   "outputs": [],
   "source": []
  },
  {
   "cell_type": "code",
   "execution_count": null,
   "metadata": {},
   "outputs": [],
   "source": []
  },
  {
   "cell_type": "code",
   "execution_count": null,
   "metadata": {},
   "outputs": [],
   "source": []
  },
  {
   "cell_type": "code",
   "execution_count": null,
   "metadata": {},
   "outputs": [],
   "source": []
  },
  {
   "cell_type": "code",
   "execution_count": null,
   "metadata": {},
   "outputs": [],
   "source": []
  },
  {
   "cell_type": "markdown",
   "metadata": {},
   "source": [
    "# The original test file: "
   ]
  },
  {
   "cell_type": "markdown",
   "metadata": {},
   "source": [
    "Here is part of the file used to devellop this part. It is very nasty and is saved to help (some) devellopers!"
   ]
  },
  {
   "cell_type": "code",
   "execution_count": null,
   "metadata": {},
   "outputs": [],
   "source": [
    "directory = './2D_40/'\n",
    "# load an example configuration file\n",
    "u = MDAnalysis.Universe(directory + 'first_equi.data')\n",
    "# initialize the interface, this has to be called only once\n",
    "# before iterating over the trajectory!\n",
    "interface = pytim.ITIM(u, max_layers=4)\n",
    "\n",
    "# write a pdb with the information on the surface layers\n",
    "interface.writepdb('layers.pdb',centered='middle')\n",
    "\n",
    "# access the atoms in the layers as an MDAnalysis' AtomGroups\n",
    "upper_layer = interface.layers[0,0]\n",
    "\n",
    "print(upper_layer.resids)\n",
    "print(u.residues[0].atoms.radii)\n",
    "print(u.residues[1979].atoms.radii)"
   ]
  },
  {
   "cell_type": "code",
   "execution_count": null,
   "metadata": {},
   "outputs": [],
   "source": [
    "N_wat = 1050\n",
    "N_meth = 1050\n",
    "\n",
    "print((8400-3*N_wat)/6)"
   ]
  },
  {
   "cell_type": "code",
   "execution_count": null,
   "metadata": {},
   "outputs": [],
   "source": [
    "8400/(0.4*3+0.6*6)\n",
    "\n",
    "1750*0.6"
   ]
  },
  {
   "cell_type": "code",
   "execution_count": null,
   "metadata": {},
   "outputs": [],
   "source": [
    "directory = './2D_40/'\n",
    "# load an example configuration file\n",
    "u = MDAnalysis.Universe(directory + 'first_equi.data')\n",
    "#print(u.residues[0].atoms.types)\n",
    "#print(u.residues[1260].atoms.types)\n",
    "\n",
    "u.add_TopologyAttr('radii')\n",
    "#print(u.residues[0].atoms.names)\n",
    "\n",
    "for i in range(0, 1200, 1):\n",
    "    #u.residues[i].atoms.names = ['O', 'H', 'H']\n",
    "    u.residues[i].atoms.types = ['O', 'H', 'H']\n",
    "    u.residues[i].atoms.radii = [0.8, 0.1, 0.1]\n",
    "    \n",
    "for i in range(1200, 2000, 1):\n",
    "    #u.residues[i].atoms.names = ['O', 'H', 'C', 'H', 'H', 'H']\n",
    "    u.residues[i].atoms.types = ['O', 'H', 'C', 'H', 'H', 'H']\n",
    "    u.residues[i].atoms.radii = [0.4, 0.2, 1.1, 0.14, 0.15, 0.16]\n",
    "    \n",
    "#print(u.residues[0].atoms.types)\n",
    "#print(u.residues[1260].atoms.types)\n",
    "# print(u.residues[0].atoms.names)\n",
    "\n",
    "#mydict    = {'O':1.14 , 'H':0.0 , 'C':1.5 , 'H':0.0 , 'H':1.6 , 'H':0.0}\n",
    "interface = pytim.ITIM(u, max_layers=4, radii_dict=mydict, warnings=True)\n",
    "\n",
    "#pytim.ITIM(u, radii_dict={'O':1.14})\n",
    "#interface = pytim.ITIM(u, max_layers=4,  warnings=True)\n",
    "\n",
    "\n",
    "print(u.residues[0].atoms.radii)\n",
    "print(u.residues[1979].atoms.radii)\n",
    "# print(u.residues[0].atoms.names)\n"
   ]
  },
  {
   "cell_type": "code",
   "execution_count": null,
   "metadata": {},
   "outputs": [],
   "source": [
    "directory = './2D_40/'\n",
    "# load an example configuration file\n",
    "u = MDAnalysis.Universe(directory + 'first_equi.data')\n",
    "#print(u.residues[0].atoms.types)\n",
    "#print(u.residues[1260].atoms.types)\n",
    "\n",
    "u.add_TopologyAttr('names')\n",
    "u.add_TopologyAttr('radii')\n",
    "u.add_TopologyAttr('resnames')\n",
    "print(u.atoms[0])\n",
    "\n",
    "u.select_atoms('resid 1').residues.resnames = 'wat'\n",
    "print(u.select_atoms('resid 1'))\n",
    "\n",
    "u.residues[0].atoms.residues.resnames = 'ok'\n",
    "print(u.residues[0].atoms.resnames)\n",
    "\n",
    "\n",
    "u.atoms[:].residues.resnames = ['wat' for k in range(0, len(u.atoms[:].residues.resnames))]\n",
    "\n",
    "print(u.residues[0])\n",
    "\n"
   ]
  },
  {
   "cell_type": "code",
   "execution_count": null,
   "metadata": {},
   "outputs": [],
   "source": [
    "directory = './2D_40/'\n",
    "# load an example configuration file\n",
    "u = MDAnalysis.Universe(directory + 'first_equi.data')\n",
    "#print(u.residues[0].atoms.types)\n",
    "#print(u.residues[1260].atoms.types)\n",
    "\n",
    "u.add_TopologyAttr('names')\n",
    "u.add_TopologyAttr('radii')\n",
    "u.add_TopologyAttr('resnames')\n",
    "\n",
    "for i in range(0, 1200, 1):\n",
    "    u.residues[i].atoms.names = ['O', 'H', 'H']\n",
    "    u.residues[i].atoms.types = ['O', 'H', 'H']\n",
    "    u.residues[i].atoms.radii = [0.8, 0.71, 0.72]\n",
    "    u.select_atoms('resid ' + str(i)).residues.resnames = 'Wat'\n",
    "    \n",
    "for i in range(1200, 2000, 1):\n",
    "    u.residues[i].atoms.names = ['O', 'H', 'C', 'H', 'H', 'H']\n",
    "    u.residues[i].atoms.types = ['O', 'H', 'C', 'H', 'H', 'H']\n",
    "    u.residues[i].atoms.radii = [1.4, 1.6, 1.1, 1.41, 1.45, 1.46]\n",
    "    u.select_atoms('resid ' + str(i)).residues.resnames = 'Met'\n",
    "\n",
    "#with MDAnalysis.coordinates.LAMMPS.DATAWriter('my_topology.data') as Towrite:\n",
    "#    Towrite.write(u)\n",
    "print('before 1')\n",
    "print(u.residues[0].atoms.radii)\n",
    "print(u.residues[1979].atoms.radii)\n",
    "\n",
    "interface = pytim.ITIM(u, max_layers=4, warnings=True)\n",
    "upper_layer = interface.layers[0,1]\n",
    "print(upper_layer.resids)\n",
    "interface.writepdb('layers_1.pdb',centered='middle')\n",
    "\n",
    "print('after 1')\n",
    "print(u.residues[0].atoms.radii)\n",
    "print(u.residues[1979].atoms.radii)\n",
    "\n",
    "for i in range(0, 1200, 1):\n",
    "    u.residues[i].atoms.names = ['O', 'H', 'H']\n",
    "    u.residues[i].atoms.types = ['O', 'H', 'H']\n",
    "    u.residues[i].atoms.radii = [2., 0.0, 0.0]\n",
    "    \n",
    "for i in range(1200, 2000, 1):\n",
    "    u.residues[i].atoms.names = ['O', 'H', 'C', 'H', 'H', 'H']\n",
    "    u.residues[i].atoms.types = ['O', 'H', 'C', 'H', 'H', 'H']\n",
    "    u.residues[i].atoms.radii = [3.0, 0.0, 3.0, 1.5, 1.5, 1.5]\n",
    "\n",
    "print('before 2')\n",
    "print(u.residues[0].atoms.radii)\n",
    "print(u.residues[1979].atoms.radii)\n",
    "\n",
    "interface = pytim.ITIM(u, max_layers=4, warnings=True)\n",
    "upper_layer = interface.layers[0,1]\n",
    "print(upper_layer.resids)\n",
    "interface.writepdb('layers_2.pdb',centered='middle')\n",
    "\n",
    "print('after 2')\n",
    "print(u.residues[0].atoms.radii)\n",
    "print(u.residues[1979].atoms.radii)\n",
    "    "
   ]
  },
  {
   "cell_type": "code",
   "execution_count": null,
   "metadata": {},
   "outputs": [],
   "source": [
    "directory = './2D_40/'\n",
    "# load an example configuration file\n",
    "u = MDAnalysis.Universe(directory + 'first_equi.data')\n",
    "#print(u.residues[0].atoms.types)\n",
    "#print(u.residues[1260].atoms.types)\n",
    "\n",
    "u.add_TopologyAttr('names')\n",
    "u.add_TopologyAttr('radii')\n",
    "#print(u.residues[0].atoms.names)\n",
    "\n",
    "for i in range(0, 1200, 1):\n",
    "    u.residues[i].atoms.names = ['O', 'H', 'H']\n",
    "    u.residues[i].atoms.types = ['O', 'H', 'H']\n",
    "    u.residues[i].atoms.radii = [0.8, 0.71, 0.72]\n",
    "    \n",
    "for i in range(1200, 2000, 1):\n",
    "    u.residues[i].atoms.names = ['O', 'H', 'C', 'H', 'H', 'H']\n",
    "    u.residues[i].atoms.types = ['O', 'H', 'C', 'H', 'H', 'H']\n",
    "    u.residues[i].atoms.radii = [1.4, 1.6, 1.1, 1.41, 1.45, 1.46]\n",
    "\n",
    "#with MDAnalysis.coordinates.LAMMPS.DATAWriter('my_topology.data') as Towrite:\n",
    "#    Towrite.write(u)\n",
    "\n",
    "with MDAnalysis.coordinates.PQR.PQRWriter('my_topology.pqr') as Towrite:\n",
    "    Towrite.write(u)\n"
   ]
  },
  {
   "cell_type": "code",
   "execution_count": null,
   "metadata": {},
   "outputs": [],
   "source": [
    "import pytim\n",
    "import MDAnalysis \n",
    "\n",
    "u = MDAnalysis.Universe('my_topology.pqr', './2D_40/first_equi.data')\n",
    "\n",
    "print(u.residues[0].atoms.types, u.residues[0].atoms.names, u.residues[0].atoms.radii)\n",
    "print(u.residues[1979].atoms.radii)\n",
    "\n",
    "interface = pytim.ITIM(u, max_layers=4, warnings=True)\n",
    "\n",
    "#pytim.ITIM(u, radii_dict={'O':1.14})\n",
    "#interface = pytim.ITIM(u, max_layers=4,  warnings=True)\n",
    "\n",
    "\n",
    "print(u.residues[0].atoms.radii)\n",
    "print(u.residues[1979].atoms.radii)"
   ]
  },
  {
   "cell_type": "code",
   "execution_count": null,
   "metadata": {},
   "outputs": [],
   "source": []
  },
  {
   "cell_type": "code",
   "execution_count": null,
   "metadata": {},
   "outputs": [],
   "source": []
  },
  {
   "cell_type": "code",
   "execution_count": null,
   "metadata": {},
   "outputs": [],
   "source": []
  },
  {
   "cell_type": "code",
   "execution_count": null,
   "metadata": {},
   "outputs": [],
   "source": []
  },
  {
   "cell_type": "code",
   "execution_count": null,
   "metadata": {},
   "outputs": [],
   "source": []
  },
  {
   "cell_type": "code",
   "execution_count": null,
   "metadata": {},
   "outputs": [],
   "source": []
  },
  {
   "cell_type": "code",
   "execution_count": null,
   "metadata": {},
   "outputs": [],
   "source": [
    "interface = pytim.ITIM(u, radii_dict={'1':1.2 , '2':0.0 , '98':1.5 , '99':0.0 , '101':1.6 , '100':0.0}, max_layers=4, warnings=True)\n",
    "\n",
    "print(u.residues[0].atoms.radii)\n",
    "print(u.residues[1979].atoms.radii)\n",
    "\n",
    "upper_layer = interface.layers[0,0]\n",
    "#print(upper_layer.resids)\n",
    "interface.writepdb('layers_1.pdb',centered='middle')\n",
    "\n",
    "\n"
   ]
  },
  {
   "cell_type": "code",
   "execution_count": null,
   "metadata": {},
   "outputs": [],
   "source": [
    "interface = pytim.ITIM(u, radii_dict={'1':0 , '2':0.0 , '98':1.5 , '99':0.0 , '101':1.6 , '100':0.0}, max_layers=4, warnings=True)\n",
    "\n",
    "upper_layer = interface.layers[0,1]\n",
    "print(upper_layer.resids)\n",
    "interface.writepdb('layers_2.pdb',centered='middle')"
   ]
  },
  {
   "cell_type": "code",
   "execution_count": null,
   "metadata": {},
   "outputs": [],
   "source": [
    "gromos = pytim_data.vdwradii(G43A1_TOP)\n",
    "print(gromos.keys())\n",
    "gromos['O'] = 1.6\n",
    "\n",
    "\n",
    "pytim.ITIM(u, radii_dict=gromos)\n",
    "\n",
    "interface = pytim.ITIM(u, max_layers=4,  warnings=True)\n",
    "#interface = pytim.ITIM(u, max_layers=4, warnings=True)\n",
    "\n",
    "print(u.residues[0].atoms.radii)\n",
    "print(u.residues[1979].atoms.radii)\n"
   ]
  },
  {
   "cell_type": "code",
   "execution_count": null,
   "metadata": {},
   "outputs": [],
   "source": [
    "\n",
    "    "
   ]
  },
  {
   "cell_type": "code",
   "execution_count": null,
   "metadata": {},
   "outputs": [],
   "source": [
    "name_file_traj = 'traj_get_strated.dcd'\n",
    "with MDAnalysis.coordinates.LAMMPS.DCDWriter(name_file_traj, n_atoms=u.atoms.n_atoms) as Towrite:\n",
    "    Towrite.write(u)"
   ]
  }
 ],
 "metadata": {
  "kernelspec": {
   "display_name": "frog",
   "language": "python",
   "name": "frog"
  },
  "language_info": {
   "codemirror_mode": {
    "name": "ipython",
    "version": 3
   },
   "file_extension": ".py",
   "mimetype": "text/x-python",
   "name": "python",
   "nbconvert_exporter": "python",
   "pygments_lexer": "ipython3",
   "version": "3.11.2"
  }
 },
 "nbformat": 4,
 "nbformat_minor": 2
}
