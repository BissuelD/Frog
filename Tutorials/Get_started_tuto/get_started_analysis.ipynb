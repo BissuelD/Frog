{
 "cells": [
  {
   "cell_type": "code",
   "execution_count": null,
   "metadata": {},
   "outputs": [],
   "source": [
    "# jupyter nbconvert --to python test_software_dev_version.ipynb test_software_dev_version.py\n",
    "%reset -f\n",
    "import importlib\n",
    "import numpy as np\n",
    "import matplotlib.pyplot as plt\n",
    "\n",
    "import sys\n",
    "\n",
    "import Frog\n",
    "import Frog.toolbox as toolbox\n",
    "import Frog.frog_data_analysis as frog_data_analysis\n",
    "\n",
    "import pickle\n",
    "import time\n",
    "from scipy.optimize import curve_fit\n"
   ]
  },
  {
   "cell_type": "markdown",
   "metadata": {},
   "source": [
    "# Load the results"
   ]
  },
  {
   "cell_type": "code",
   "execution_count": null,
   "metadata": {},
   "outputs": [],
   "source": [
    "# The directory where is located the FROG results:\n",
    "# FROG_WD = \"/home/dbissuel/Documents/ILM/TheoChem/Claire/Guillaume/Frog\"\n",
    "# #directory = '/home/glebreton/Software/Frog/Doc/Tutorial_files/Get_started_tuto'\n",
    "# directory = f'{FROG_WD}/Tutorials/Get_started_tuto'\n",
    "\n",
    "directory = \"./\"\n",
    "\n",
    "# To load the result, use: \n",
    "# GP, L_moleculetype_result = frog_data_analysis.load_result(directory)\n",
    "\n",
    "# There are also 2 optional arguments:\n",
    "# name_result: [string] optional argument, the name of the MT results. By default set to 'L_moleculetype_result.p'\n",
    "# what_to_print: [list of string] optional argument, by default set to False. \n",
    "# Used to print some information about the general parameter run or relative to the diagrams. \n",
    "# Use: ['general info'] for more information about the GP, and ['diagram info'] for diagram information.\n",
    "# You can combine them using: ['general info', 'diagram info']\n",
    "\n",
    "GP, L_moleculetype_result = frog_data_analysis.load_result(directory, name_result='L_moleculetype_result.p', what_to_print=['general info', 'diagram info'])"
   ]
  },
  {
   "cell_type": "code",
   "execution_count": null,
   "metadata": {},
   "outputs": [],
   "source": [
    "# If you want some information about your results:\n",
    "frog_data_analysis.print_general_info(GP, L_moleculetype_result)\n",
    "frog_data_analysis.print_diagram_info(GP, L_moleculetype_result)"
   ]
  },
  {
   "cell_type": "markdown",
   "metadata": {},
   "source": [
    "# Load a diagram: "
   ]
  },
  {
   "cell_type": "markdown",
   "metadata": {},
   "source": [
    "To load a diagram, use the function `frog_data_analysis.return_diagram(GP, L_moleculetype_result, MT_name, name_diagram)`\n",
    "\n",
    "Where `GP` and `L_moleculetype_result` refers to the values previously load using the function frog_data_analysis.load_result\n",
    "\n",
    "The `MT_name` is the name of the MT to load. It has to be one of the available one. The name_diagram is the name of the diagram to load.\n",
    "\n",
    "To see the available MT and diagram, use:\n",
    "\n",
    "```python\n",
    "frog_data_analysis.print_general_info(GP, L_moleculetype_result)\n",
    "frog_data_analysis.print_diagram_info(GP, L_moleculetype_result)\n",
    "```"
   ]
  },
  {
   "cell_type": "markdown",
   "metadata": {},
   "source": [
    "## Advance user\n",
    "\n",
    "To do the same, use:\n",
    "\n",
    "```python\n",
    "my_diagram = getattr(L_moleculetype_result[k], name_diagram)\n",
    "```\n",
    "\n",
    "Where k refers to the MT you are looking for. The order of the MT is the same as the one defined in the parameter file. To check:\n",
    "\n",
    "```python\n",
    "for k in range(0, len(L_moleculetype_result), 1):\n",
    "    print(k, L_moleculetype_result[k].name)\n",
    "```    \n",
    "\n",
    "To get the available diagrams:\n",
    "\n",
    "```python\n",
    "KKK = 0 # the target MT\n",
    "for k in range(0, len(L_moleculetype_result[KKK].mtparameter.dparameter.L_diagram), 1):\n",
    "    diagram_name = L_moleculetype_result[KKK].mtparameter.dparameter.L_diagram[k].name\n",
    "    my_diagram = getattr(L_moleculetype_result[KKK], diagram_name)\n",
    "    print(diagram_name, my_diagram.name)\n",
    "```"
   ]
  },
  {
   "cell_type": "code",
   "execution_count": null,
   "metadata": {},
   "outputs": [],
   "source": [
    "for KKK in range(0, len(L_moleculetype_result), 1):\n",
    "    print(KKK, L_moleculetype_result[KKK].name)\n",
    "\n",
    "KKK = 0 # the target MT\n",
    "for k in range(0, len(L_moleculetype_result[KKK].mtparameter.dparameter.L_diagram), 1):\n",
    "    diagram_name = L_moleculetype_result[KKK].mtparameter.dparameter.L_diagram[k].name\n",
    "    my_diagram = getattr(L_moleculetype_result[KKK], diagram_name)\n",
    "    print(diagram_name, my_diagram.name)"
   ]
  },
  {
   "cell_type": "markdown",
   "metadata": {},
   "source": [
    "# Usefull properties and tips "
   ]
  },
  {
   "cell_type": "markdown",
   "metadata": {},
   "source": [
    "When dealing with a diagram, here are some usefull line that you can use:"
   ]
  },
  {
   "cell_type": "code",
   "execution_count": null,
   "metadata": {},
   "outputs": [],
   "source": [
    "# Loading the diagram\n",
    "MT_name = 'Water_TIP4P2005'\n",
    "name_diagram = 'density_slice_z'\n",
    "my_diagram = frog_data_analysis.return_diagram(GP, L_moleculetype_result, MT_name, name_diagram)\n",
    "\n",
    "# To check the diagram:\n",
    "print('diagram name:', my_diagram.name)\n",
    "print('diagram type:', type(my_diagram))\n",
    "print('diagram size:', my_diagram.size) # equivalent to my.diagram.value.shape, using here the numpy built-in function ''shape''. \n",
    "print('diagram population:', my_diagram.population)\n",
    "# print('diagram axis_population (if there is one):', my_diagram.axis_population)\n",
    "\n",
    "# To have access to its diagram parameter object:\n",
    "for KKK in range(0, len(L_moleculetype_result), 1): # finding the MT \n",
    "    if L_moleculetype_result[KKK].name == MT_name:\n",
    "        K_MT = KKK\n",
    "\n",
    "for k in range(0, len(L_moleculetype_result[K_MT].mtparameter.dparameter.L_diagram), 1): # finding the sdparameter relative to the diagram asked\n",
    "    diagram_name = L_moleculetype_result[K_MT].mtparameter.dparameter.L_diagram[k].name\n",
    "    if diagram_name == name_diagram:\n",
    "        my_diagram_sdparameter = L_moleculetype_result[K_MT].mtparameter.dparameter.L_diagram[k]\n",
    "\n",
    "print('Here is the sdparameter:', type(my_diagram_sdparameter), my_diagram_sdparameter.name)\n",
    "\n",
    "# You can then show some properties of the sdparameter:\n",
    "print('sdparameter type of analysis:', my_diagram_sdparameter.analysis_type)\n",
    "print('sdparameter discretization type:', my_diagram_sdparameter.discretization_type)\n",
    "print('sdparameter size:', my_diagram_sdparameter.bin_size)\n",
    "print('sdparameter mean size (if there is one):', my_diagram_sdparameter.mean_size)    "
   ]
  },
  {
   "cell_type": "markdown",
   "metadata": {
    "vscode": {
     "languageId": "raw"
    }
   },
   "source": [
    "In order to plot the diagram values, axis have been made for you. \n",
    "\n",
    "To get the axis, use: \n",
    "\n",
    "* `my_diagram.axis_space` for the space-discretization axis\n",
    "* `my_diagram.axis_observable` for the observable one"
   ]
  },
  {
   "cell_type": "markdown",
   "metadata": {},
   "source": [
    "The axis_space contains the `axis_space.value` and `axis_space.unit` which are a list ready for plotting and the unit used respectively. The axis depend on the type of space-discretization used. \n",
    "\n",
    "* Averaged: \n",
    "> No space discretization is used. Therefore thus axis is not usefull.\n",
    "\n",
    "* Plane_ij: \n",
    "> The space discretization is made along the laboratory axis k. The axis_space.value is a list of N elements (N being the number of bin you have defined to discretize the space). You can check this N by: `my_diagram.size[0]`, `my_diagram_sdparameter.bin_size[0]` and `len(my_diagram.axis_space.value)`. The values goes though the box size widith in the discretization direction using N values. \n",
    "> Please note that the box size evolution during the simulation is taken into account in the molecule's attribution to each slices. However, the `my_diagram.axis_space.value` is made using the first frame. \n",
    "\n",
    "* Layer:\n",
    "> The space discretization is made over the layer attribution using the module pytim. See the tutorial about this scheme for more details. In short, my_diagram.axis_space contains the layer numbering for this diagram. If 4 layer are used for this diagram, my_diagram.axis_space goes from -4 to 4 (9 elements in total). \n",
    "\n",
    "The unit are built in by Frog. To show the unit of an axis, use: `axis.unit.print_unit()`\n",
    "You can change the unit for a diagram, see below. "
   ]
  },
  {
   "cell_type": "code",
   "execution_count": null,
   "metadata": {},
   "outputs": [],
   "source": [
    "# In the Plane_ij case: \n",
    "L_xyz = ['x', 'y', 'z'] # my_diagram_sdparameter.discretization_type stores the discretized laboratory axis using this correspondance \n",
    "print('The number of bin used to discretize the ' + L_xyz[my_diagram_sdparameter.discretization_type] + 'laboratory axis is:',\n",
    "      my_diagram.size[0])\n",
    "print('Note that these values are the same:', my_diagram.size[0], my_diagram_sdparameter.bin_size[0], len(my_diagram.axis_space.value))\n",
    "print('The box size in the ' + L_xyz[my_diagram_sdparameter.discretization_type] + 'laboratory axis is', GP.box_size[my_diagram_sdparameter.discretization_type])\n",
    "print('The my_diagram.axis_space.value is:', my_diagram.axis_space.value)\n",
    "print('The my_diagram.axis_space unit is:', my_diagram.axis_space.unit.print_unit())\n"
   ]
  },
  {
   "cell_type": "markdown",
   "metadata": {},
   "source": [
    "The `axis_observable` contains the `axis_observable.value` and `axis_observable.unit` which are a list ready for plotting and the unit used respectively. The axis depend on the type of analysis performed. More details can be found for each analysis throughout the tutorials.  "
   ]
  },
  {
   "cell_type": "markdown",
   "metadata": {},
   "source": [
    "# Density"
   ]
  },
  {
   "cell_type": "code",
   "execution_count": null,
   "metadata": {},
   "outputs": [],
   "source": [
    "# To load \n",
    "MT_name = 'Water_TIP4P2005'\n",
    "name_diagram = 'density_slice_z'\n",
    "my_diagram = frog_data_analysis.return_diagram(GP, L_moleculetype_result, MT_name, name_diagram)"
   ]
  },
  {
   "cell_type": "markdown",
   "metadata": {},
   "source": [
    "Here is an example of how the space discretization is performed. This `toolbox.binarize_array` is used very often to built the diagram. "
   ]
  },
  {
   "cell_type": "code",
   "execution_count": null,
   "metadata": {},
   "outputs": [],
   "source": [
    "# Example of discretization:\n",
    "z_mean_position = 74\n",
    "nbr_bits = my_diagram.size[0]\n",
    "y_min = 0\n",
    "y_max = GP.box_size[2]\n",
    "\n",
    "print('Box size along the z direction:', GP.box_size[2])\n",
    "print('Number of bin to discretize the observable \"mean position\" along the z-axis:', my_diagram.size[0])\n",
    "print('The mean position ' + str(z_mean_position) + ' correspond to the bin number:', toolbox.binarize_array(z_mean_position, nbr_bits, y_min, y_max, pbc=False))"
   ]
  },
  {
   "cell_type": "markdown",
   "metadata": {},
   "source": [
    "For the density analysis, the `my_diagram.value` are 1D: only the position of the molecule with respect to the z-axis matters. To plot the density, only the `my_diagram.axis_space.value` and `my_diagram.value` are needed. It is the only case where the `my_diagram.axis_observable` is ill-defined and not used. "
   ]
  },
  {
   "cell_type": "code",
   "execution_count": null,
   "metadata": {},
   "outputs": [],
   "source": [
    "# To make sure that both list have the same dimension\n",
    "print('len(my_diagram.axis_space.value):', len(my_diagram.axis_space.value))\n",
    "print('len(my_diagram.value):', len(my_diagram.value))\n",
    "\n",
    "# The unit:\n",
    "print('unit of the density:', my_diagram.unit.print_unit())"
   ]
  },
  {
   "cell_type": "markdown",
   "metadata": {},
   "source": [
    "The `my_diagram.value` contains the number of molecule found between 2 position with respect to the z-laboratory axis for all the time step divided by the volume of each slice. In this case, the volume of a slice is: `box_size[0]*box_size[1]*box_size[2]/N`, where N is the number of bin used to discretized the z-axis. \n",
    "\n",
    "This distribution is thus not normalized with respect to the number of time step used. To normalized it, use:\n",
    "`my_diagram.value/GP.nbr_time_step`"
   ]
  },
  {
   "cell_type": "code",
   "execution_count": null,
   "metadata": {},
   "outputs": [],
   "source": [
    "print(r'The volume of each slices are:' + str(GP.box_size[0]*GP.box_size[1]*GP.box_size[2]/len(my_diagram.axis_space.value)) + r' A^3')\n"
   ]
  },
  {
   "cell_type": "code",
   "execution_count": null,
   "metadata": {},
   "outputs": [],
   "source": [
    "plt.figure(1, figsize=(10, 7))\n",
    "plt.plot(my_diagram.axis_space.value, my_diagram.value/GP.nbr_time_step)\n",
    "plt.xlabel(r'Altitude [$' + my_diagram.axis_space.unit.print_unit() + ']$', fontsize=25)\n",
    "plt.ylabel(r'Density [$' + my_diagram.unit.print_unit() + ']$', fontsize=25)\n",
    "plt.xticks(fontsize=25)\n",
    "plt.yticks(fontsize=25)\n",
    "plt.legend(fontsize=25)\n",
    "plt.tight_layout(pad=1.0, w_pad=1.0, h_pad=1.0)"
   ]
  },
  {
   "cell_type": "markdown",
   "metadata": {},
   "source": [
    "To change the unit, use: `my_diagram.switch_unit_diagram`\n",
    "\n",
    "You can change the unit of the axis_space. For instance to plot in nm instead of angstrom:"
   ]
  },
  {
   "cell_type": "code",
   "execution_count": null,
   "metadata": {},
   "outputs": [],
   "source": [
    "my_diagram.switch_unit_diagram('axis_space', 'length', 'nm', custom_change=False, molar_mass=False)\n",
    "\n",
    "plt.figure(1, figsize=(10, 7))\n",
    "plt.plot(my_diagram.axis_space.value, my_diagram.value/GP.nbr_time_step)\n",
    "plt.xlabel(r'Altitude [$' + my_diagram.axis_space.unit.print_unit() + ']$', fontsize=25)\n",
    "plt.ylabel(r'Density [$' + my_diagram.unit.print_unit() + ']$', fontsize=25)\n",
    "plt.xticks(fontsize=25)\n",
    "plt.yticks(fontsize=25)\n",
    "plt.legend(fontsize=25)\n",
    "plt.tight_layout(pad=1.0, w_pad=1.0, h_pad=1.0)"
   ]
  },
  {
   "cell_type": "markdown",
   "metadata": {},
   "source": [
    "You can also change the unit of the distribution. This will change both the unit of the diagram, and the `axis_observable`. You have to change every component of the unit one by one. For instance for the density, to go from Molecule per angstrom^3 to kg per L (or dm^3), you have to change the `population` unit and the `length` unit. \n",
    "\n",
    "The `population` can be switch from Molecule to kg by:\n",
    "```python\n",
    "my_diagram.switch_unit_diagram('distribution', 'population', 'kg', custom_change=False, molar_mass=18)\n",
    "```\n",
    "Note that yu have to give the molar mass as well.\n",
    "\n",
    "The `length` unit can be switch from 'nm' to 'dm' simply by: \n",
    "```python\n",
    "my_diagram.switch_unit_diagram('distribution', 'length', 'dm')\n",
    "```"
   ]
  },
  {
   "cell_type": "code",
   "execution_count": null,
   "metadata": {},
   "outputs": [],
   "source": [
    "my_diagram.switch_unit_diagram('distribution', 'population', 'kg', custom_change=False, molar_mass=18)\n",
    "my_diagram.switch_unit_diagram('distribution', 'length', 'dm')\n",
    "\n",
    "plt.figure(1, figsize=(10, 7))\n",
    "plt.plot(my_diagram.axis_space.value, my_diagram.value/GP.nbr_time_step)\n",
    "plt.xlabel(r'Altitude [$' + my_diagram.axis_space.unit.print_unit() + ']$', fontsize=25)\n",
    "plt.ylabel(r'Density [$' + my_diagram.unit.print_unit() + ']$', fontsize=25)\n",
    "plt.xticks(fontsize=25)\n",
    "plt.yticks(fontsize=25)\n",
    "plt.legend(fontsize=25)\n",
    "plt.tight_layout(pad=1.0, w_pad=1.0, h_pad=1.0)"
   ]
  },
  {
   "cell_type": "code",
   "execution_count": null,
   "metadata": {},
   "outputs": [],
   "source": [
    "# To go back to the initial unit:\n",
    "my_diagram.switch_unit_diagram('axis_space', 'length', 'A', custom_change=False, molar_mass=False)\n",
    "my_diagram.switch_unit_diagram('distribution', 'population', 'Molecule', custom_change=False, molar_mass=18)\n",
    "my_diagram.switch_unit_diagram('distribution', 'length', 'A')\n",
    "plt.figure(1, figsize=(10, 7))\n",
    "plt.plot(my_diagram.axis_space.value, my_diagram.value/GP.nbr_time_step)\n",
    "plt.xlabel(r'Altitude [$' + my_diagram.axis_space.unit.print_unit() + ']$', fontsize=25)\n",
    "plt.ylabel(r'Density [$' + my_diagram.unit.print_unit() + ']$', fontsize=25)\n",
    "plt.xticks(fontsize=25)\n",
    "plt.yticks(fontsize=25)\n",
    "plt.legend(fontsize=25)\n",
    "plt.tight_layout(pad=1.0, w_pad=1.0, h_pad=1.0)"
   ]
  },
  {
   "cell_type": "markdown",
   "metadata": {},
   "source": [
    "Please note that the unit formalism of Frog is not very develloped yet. Help is warmly welcome to improve it."
   ]
  },
  {
   "cell_type": "markdown",
   "metadata": {},
   "source": [
    "# Molecular Orientation"
   ]
  },
  {
   "cell_type": "markdown",
   "metadata": {},
   "source": [
    "Let's analyse a more complexe set of data: the 'molecular orientation' of a molecule. \n",
    "\n",
    "The diagram contains 2 discretizations: the molecule's position and the molecule orientation. The space discretization is very similar to what has been presented above for the density analysis. For the molecule orientation, 3 floats have to be discretize corresponding to the projection of the water permanent dipole moment with respect to the laboratory axis. Note that the molecular orientation of a molecule is defined within its molecular library file. "
   ]
  },
  {
   "cell_type": "code",
   "execution_count": null,
   "metadata": {},
   "outputs": [],
   "source": [
    "# To load \n",
    "MT_name = 'Water_TIP4P2005'\n",
    "name_diagram = 'molecular_orientation_slice_z'\n",
    "my_diagram = frog_data_analysis.return_diagram(GP, L_moleculetype_result, MT_name, name_diagram)"
   ]
  },
  {
   "cell_type": "markdown",
   "metadata": {},
   "source": [
    "The `my_diagram.value` contains 3 dimensions. The first one is for the space discretization, the second for the molecular orientation (3 possibilites) and the last dimension contains the value of the molecular orientation. "
   ]
  },
  {
   "cell_type": "code",
   "execution_count": null,
   "metadata": {},
   "outputs": [],
   "source": [
    "print('my_diagram.value.size', my_diagram.value.size) # here the size refers to an numpy attribute since my_diagram.value is a numpy diagram\n",
    "print('my_diagram.size', my_diagram.size) # here it refers to the Frog attribute size of a diagram\n",
    "print('The number of bin used for the space discretization is my_diagram.size[0]:', my_diagram.size[0])\n",
    "print('There are my_diagram.size[1] angle used to defined the molecular orientation:', my_diagram.size[1])\n",
    "print('The number of bin used for the each angle of the molecular orientation are my_diagram.size[2]:', my_diagram.size[2])"
   ]
  },
  {
   "cell_type": "markdown",
   "metadata": {},
   "source": [
    "Below is show how the bin are attribute for a single molecule configuration: \n",
    "\n",
    "Let's say the molecule mean position is 89 A, and its molecular orientation is [-0.89, 0.1, 0.42]"
   ]
  },
  {
   "cell_type": "code",
   "execution_count": null,
   "metadata": {},
   "outputs": [],
   "source": [
    "# Example of discretization:\n",
    "# space discretization:\n",
    "z_mean_position = 89\n",
    "nbr_bits = my_diagram.size[0] \n",
    "y_min = 0\n",
    "y_max = GP.box_size[2]\n",
    "\n",
    "bin_z = toolbox.binarize_array(z_mean_position, nbr_bits, y_min, y_max, pbc=False)\n",
    "print('Box size along the z direction:', GP.box_size[2])\n",
    "print('Number of bin to discretize the observable \"mean position\" along the z-axis:', my_diagram.size[0])\n",
    "print('The mean position ' + str(z_mean_position) + ' correspond to the bin number:', bin_z)\n",
    "\n",
    "# angle discretization\n",
    "molecular_orientation =  np.array([-0.89, 0.1, 0.42])\n",
    "nbr_bits = my_diagram.size[-1]\n",
    "y_min = -1\n",
    "y_max = 1\n",
    "\n",
    "bin_angle = toolbox.binarize_array(molecular_orientation, nbr_bits, y_min, y_max, pbc=False)\n",
    "print('Box size along the z direction:', GP.box_size[2])\n",
    "print('Number of bin to discretize the observable \"molecular orientation\":', my_diagram.size[-1])\n",
    "print('The molecular orientation ' + str(molecular_orientation) + ' correspond to the bin number:', bin_angle)\n",
    "\n",
    "# Results:\n",
    "print('This molecule will contribute to 3 values of the diagrams:', (bin_z, 0, bin_angle[0]), (bin_z, 1, bin_angle[1]), (bin_z, 2, bin_angle[2]))\n",
    "print('The first bin number correspond to the space discretization (' + str(bin_z) + '), the second to the angle (0, 1 or 2) and the last to the angle value (' + str(bin_angle) + ').')"
   ]
  },
  {
   "cell_type": "markdown",
   "metadata": {},
   "source": [
    "Since this kind of diagram have several dimension, here are some exemple to plot along some of them:"
   ]
  },
  {
   "cell_type": "code",
   "execution_count": null,
   "metadata": {},
   "outputs": [],
   "source": [
    "# To plot along the molecular angle at a given altitude, for all the possible angle:\n",
    "bin_altitude = 50\n",
    "print('The plot is made for molecule at the altitude:', my_diagram.axis_space.value[bin_altitude])\n",
    "\n",
    "L_xyz = ['x', 'y', 'z']\n",
    "plt.figure(1, figsize=(10, 7))\n",
    "for k in range(3):\n",
    "    plt.plot(my_diagram.axis_observable.value, my_diagram.value[bin_altitude][k], label='Projection along ' + L_xyz[k], lw=3)\n",
    "\n",
    "plt.xlabel(my_diagram.axis_observable.unit.print_unit(), fontsize=25)\n",
    "plt.ylabel(my_diagram.unit.print_unit(), fontsize=25)\n",
    "plt.xticks(fontsize=25)\n",
    "plt.yticks(fontsize=25)\n",
    "plt.legend(fontsize=25)\n",
    "plt.tight_layout(pad=1.0, w_pad=1.0, h_pad=1.0)"
   ]
  },
  {
   "cell_type": "code",
   "execution_count": null,
   "metadata": {},
   "outputs": [],
   "source": [
    "# To plot along the altitude one particular angle population:\n",
    "L_xyz = ['x', 'y', 'z']\n",
    "which_angle = 2\n",
    "bin_angle = 99\n",
    "print('The plot is made for molecule which dipole moment angle projection with the ' \n",
    "      + L_xyz[which_angle] + '-laboratory axis (the cos of this angle) is around ' \n",
    "      + str(my_diagram.axis_observable.value[bin_angle]))\n",
    "\n",
    "plt.figure(1, figsize=(10, 7))\n",
    "plt.plot(my_diagram.axis_space.value, my_diagram.value.T[bin_angle][which_angle], lw=3)\n",
    "\n",
    "plt.xlabel(my_diagram.axis_space.unit.print_unit(), fontsize=25)\n",
    "plt.ylabel(my_diagram.unit.print_unit(), fontsize=25)\n",
    "plt.xticks(fontsize=25)\n",
    "plt.yticks(fontsize=25)\n",
    "plt.legend(fontsize=25)\n",
    "plt.tight_layout(pad=1.0, w_pad=1.0, h_pad=1.0)"
   ]
  },
  {
   "cell_type": "code",
   "execution_count": null,
   "metadata": {},
   "outputs": [],
   "source": []
  },
  {
   "cell_type": "code",
   "execution_count": null,
   "metadata": {},
   "outputs": [],
   "source": [
    "# To plot along the altitude the mean value of the projection for every angle:\n",
    "\n",
    "L_xyz = ['x', 'y', 'z']\n",
    "plt.figure(1, figsize=(10, 7))\n",
    "for k in range(3):\n",
    "    plt.plot(my_diagram.axis_space.value, my_diagram.mean.T[k], label='Projection along ' + L_xyz[k], lw=3)\n",
    "\n",
    "plt.xlabel(my_diagram.axis_space.unit.print_unit(), fontsize=25)\n",
    "plt.ylabel('Mean value [' + my_diagram.axis_observable.unit.print_unit() +']', fontsize=25)\n",
    "plt.xticks(fontsize=25)\n",
    "plt.yticks(fontsize=25)\n",
    "plt.legend(fontsize=25)\n",
    "plt.tight_layout(pad=1.0, w_pad=1.0, h_pad=1.0)"
   ]
  },
  {
   "cell_type": "markdown",
   "metadata": {},
   "source": [
    "Please note that the average plotted above is already normalized with respect to the number of molecule participation to each altitude.\n",
    "To see how many molecule have participated to each altitude, use: `my_diagram.axis_population`\n",
    "This will help you determine which altitude make sens or not! \n",
    "\n",
    "Note that you can also use the density to do almost the same thing. This important point is that this `my_diagram.axis_population` respect the same space discretization as the one used for the diagram!  "
   ]
  },
  {
   "cell_type": "code",
   "execution_count": null,
   "metadata": {},
   "outputs": [],
   "source": [
    "# To plot the number of molecule which have participated to each altitude for this diagram: \n",
    "plt.figure(1, figsize=(10, 7))\n",
    "plt.title('Number of molecule used to compute the mean value wrt the altitude', fontsize=25)\n",
    "plt.plot(my_diagram.axis_space.value, my_diagram.axis_population, lw=3)\n",
    "plt.xlabel(my_diagram.axis_space.unit.print_unit(), fontsize=25)\n",
    "plt.ylabel('Population [Molecule]', fontsize=25)\n",
    "plt.xticks(fontsize=25)\n",
    "plt.yticks(fontsize=25)\n",
    "plt.legend(fontsize=25)\n",
    "plt.tight_layout(pad=1.0, w_pad=1.0, h_pad=1.0)"
   ]
  },
  {
   "cell_type": "markdown",
   "metadata": {},
   "source": [
    "If enough time step are used, you can also used an estimation of the error using `my_diagram.sd`. See the main documentation for more details. "
   ]
  },
  {
   "cell_type": "code",
   "execution_count": null,
   "metadata": {},
   "outputs": [],
   "source": [
    "k = 2\n",
    "\n",
    "plt.figure(1, figsize=(10, 7))\n",
    "plt.errorbar(my_diagram.axis_space.value, my_diagram.mean.T[k], yerr=my_diagram.sd.T[0], label='Projection along ' + L_xyz[k], \n",
    "             fmt = 'k', marker='o', mfc='k', ms=1, mew=1, linewidth=1)\n",
    "plt.xlabel(my_diagram.axis_space.unit.print_unit(), fontsize=25)\n",
    "plt.ylabel(my_diagram.axis_observable.unit.print_unit(), fontsize=25)\n",
    "plt.xticks(fontsize=25)\n",
    "plt.yticks(fontsize=25)\n",
    "plt.legend(fontsize=25)\n",
    "plt.tight_layout(pad=1.0, w_pad=1.0, h_pad=1.0)\n"
   ]
  },
  {
   "cell_type": "markdown",
   "metadata": {},
   "source": [
    "# Chi"
   ]
  },
  {
   "cell_type": "markdown",
   "metadata": {},
   "source": [
    "For the other analysis type, it is more or less the same. For instance, for the chi analysis, the output is a 27 elements tensor (instead of 3 elements list of the molecular orientation).\n",
    "Therefore, the size of the diagram will be Nx27xM, with N the number of bin to discretize the space and M the number of bin used to discretize each elements. "
   ]
  },
  {
   "cell_type": "code",
   "execution_count": null,
   "metadata": {},
   "outputs": [],
   "source": [
    "# To load \n",
    "MT_name = 'Water_TIP4P2005'\n",
    "name_diagram = 'chi_slice_z'\n",
    "my_diagram = frog_data_analysis.return_diagram(GP, L_moleculetype_result, MT_name, name_diagram)"
   ]
  },
  {
   "cell_type": "markdown",
   "metadata": {},
   "source": [
    "Here, the elements values can goes from -inf to + inf in principle. Therefore, the extremum value have been passed in input, and are stored in : `my_diagram_sdparameter.min_max`\n",
    "For instance: "
   ]
  },
  {
   "cell_type": "code",
   "execution_count": null,
   "metadata": {},
   "outputs": [],
   "source": [
    "# Loading the diagram\n",
    "MT_name = 'Water_TIP4P2005'\n",
    "name_diagram = 'chi_slice_z'\n",
    "\n",
    "# To have access to its diagram parameter object:\n",
    "for KKK in range(0, len(L_moleculetype_result), 1): # finding the MT \n",
    "    if L_moleculetype_result[KKK].name == MT_name:\n",
    "        K_MT = KKK\n",
    "\n",
    "for k in range(0, len(L_moleculetype_result[K_MT].mtparameter.dparameter.L_diagram), 1): # finding the sdparameter relative to the diagram asked\n",
    "    diagram_name = L_moleculetype_result[K_MT].mtparameter.dparameter.L_diagram[k].name\n",
    "    if diagram_name == name_diagram:\n",
    "        my_diagram_sdparameter = L_moleculetype_result[K_MT].mtparameter.dparameter.L_diagram[k]\n",
    "\n",
    "print('Here is the sdparameter:', type(my_diagram_sdparameter), my_diagram_sdparameter.name)\n",
    "\n",
    "# You can then show some properties of the sdparameter:\n",
    "print('sdparameter min-max value used for each element discretization:', my_diagram_sdparameter.min_max, 'unit: ' + my_diagram.axis_observable.unit.print_unit())\n",
    "print('To discretize each elements, M bin are used:', my_diagram_sdparameter.bin_size[-1])\n",
    "print('Therefore, each bin for the element value widith is: ', (my_diagram_sdparameter.min_max[1]-my_diagram_sdparameter.min_max[0])/my_diagram_sdparameter.bin_size[-1], 'unit: ' + my_diagram.axis_observable.unit.print_unit())\n"
   ]
  },
  {
   "cell_type": "markdown",
   "metadata": {},
   "source": [
    "The `my_diagram.axis_observable.value` go troughout these extremal values using M bins. "
   ]
  },
  {
   "cell_type": "code",
   "execution_count": null,
   "metadata": {},
   "outputs": [],
   "source": [
    "# To plot the distribution of the K tensor elements at a given altitude:\n",
    "K = 8\n",
    "bin_altitude = 60\n",
    "print('The plot is made for molecule at the altitude:', my_diagram.axis_space.value[bin_altitude])\n",
    "\n",
    "plt.figure(1, figsize=(10, 7))\n",
    "plt.plot(my_diagram.axis_observable.value, my_diagram.value[bin_altitude][K], label='tensor element number '  + str(K), lw=3)\n",
    "plt.xlabel(my_diagram.axis_observable.unit.print_unit(), fontsize=25)\n",
    "plt.ylabel(my_diagram.unit.print_unit(), fontsize=25)\n",
    "plt.xticks(fontsize=25)\n",
    "plt.yticks(fontsize=25)\n",
    "plt.legend(fontsize=25)\n",
    "plt.tight_layout(pad=1.0, w_pad=1.0, h_pad=1.0)"
   ]
  },
  {
   "cell_type": "markdown",
   "metadata": {},
   "source": [
    "Today, the mean value is stored differently to the distribution.\n",
    "\n",
    "The `diagram.value` has 27 elements, and is stored from 0 to 26.\n",
    "The `diagram.mean` has 3x3x3 elements. \n",
    "\n",
    "To go from one to another:\n",
    "`diagram.mean[i][j][k]` corresponds to the i*9+j*3+k element of `diagram.value`\n",
    "\n",
    "Note: if you are using diagram.mean.T, note that the order changes!!!!\n",
    "```python\n",
    "diagram.mean[i][j][k][l] = diagram.mean.T[l][k][j][i]\n",
    "```"
   ]
  },
  {
   "cell_type": "code",
   "execution_count": null,
   "metadata": {},
   "outputs": [],
   "source": [
    "# To plot the mean value of the K tensor elements for every altitude\n",
    "L_xyz = ['x', 'y', 'z']\n",
    "iii = 1\n",
    "jjj = 0\n",
    "kkk = 2\n",
    "\n",
    "name_ijk = L_xyz[iii] + L_xyz[jjj] + L_xyz[kkk]\n",
    "number_element_diagram = iii*9+jjj*3+kkk\n",
    "print('The tensor element ' + name_ijk + ' correspond to the ' + str(number_element_diagram) + 'th element in the distribution')\n",
    "\n",
    "plt.figure(1, figsize=(10, 7))\n",
    "plt.plot(my_diagram.axis_space.value, my_diagram.mean.T[kkk][jjj][iii], label=r'$\\chi_{' + name_ijk + '}$', lw=3)\n",
    "plt.xlabel(my_diagram.axis_space.unit.print_unit(), fontsize=25)\n",
    "plt.ylabel(my_diagram.axis_observable.unit.print_unit(), fontsize=25)\n",
    "plt.xticks(fontsize=25)\n",
    "plt.yticks(fontsize=25)\n",
    "plt.legend(fontsize=25)\n",
    "plt.tight_layout(pad=1.0, w_pad=1.0, h_pad=1.0)"
   ]
  },
  {
   "cell_type": "code",
   "execution_count": null,
   "metadata": {},
   "outputs": [],
   "source": [
    "# To plot the mean value of the K tensor elements for every altitude\n",
    "L_xyz = ['x', 'y', 'z']\n",
    "iii = 1\n",
    "jjj = 0\n",
    "kkk = 2\n",
    "\n",
    "name_ijk = L_xyz[iii] + L_xyz[jjj] + L_xyz[kkk]\n",
    "number_element_diagram = iii*9+jjj*3+kkk\n",
    "print('The tensor element ' + name_ijk + ' correspond to the ' + str(number_element_diagram) + 'th element in the distribution')\n",
    "\n",
    "plt.figure(1, figsize=(10, 7))\n",
    "plt.errorbar(my_diagram.axis_space.value, my_diagram.mean.T[kkk][jjj][iii], yerr=my_diagram.sd.T[kkk][jjj][iii], label=r'$\\chi_{' + name_ijk + '}$', \n",
    "             fmt = 'k', marker='o', mfc='k', ms=1, mew=1, linewidth=1)\n",
    "plt.xlabel(my_diagram.axis_space.unit.print_unit(), fontsize=25)\n",
    "plt.ylabel(my_diagram.axis_observable.unit.print_unit(), fontsize=25)\n",
    "plt.xticks(fontsize=25)\n",
    "plt.yticks(fontsize=25)\n",
    "plt.legend(fontsize=25)\n",
    "plt.tight_layout(pad=1.0, w_pad=1.0, h_pad=1.0)\n",
    "\n"
   ]
  },
  {
   "cell_type": "markdown",
   "metadata": {},
   "source": [
    "Note that the mean value is made without any binarization error. If you can to perform the average by yourself:\n",
    "\n",
    "$<X> = 1/N \\sum \\rho(X)*X$\n",
    "\n",
    "Here, X is `my_diagram.axis_observable.value` and the distribution rho(X) is `my_diagram.value`. The number of molecule N is `my_diagram.axis_population`"
   ]
  },
  {
   "cell_type": "code",
   "execution_count": null,
   "metadata": {},
   "outputs": [],
   "source": [
    "# Averaging of the first element at the 50th altitude :\n",
    "bin_z = 50\n",
    "iii = 0\n",
    "jjj = 0\n",
    "kkk = 0\n",
    "name_ijk = L_xyz[iii] + L_xyz[jjj] + L_xyz[kkk]\n",
    "number_element_diagram = iii*9+jjj*3+kkk\n",
    "print('mean value of the first element at the ' + str(bin_z) + 'th altitude computed directly by Frog:', my_diagram.mean[bin_z][iii][jjj][kkk])\n",
    "\n",
    "print('Number of molecule at this altitude:', my_diagram.axis_population[bin_z], np.sum(my_diagram.value[50][number_element_diagram]))\n",
    "my_mean = np.sum(my_diagram.value[bin_z][number_element_diagram]*my_diagram.axis_observable.value)/my_diagram.axis_population[bin_z]\n",
    "\n",
    "print('Obtained mean: ', my_mean)\n",
    "\n",
    "print('The difference between the 2 method can be explained by the binarized error.' + \n",
    "      ' If too few bins to discretize the observable (M) are used, the distribution loses some information.' + \n",
    "      ' Therefore, the mean value is not exactly computed.' +\n",
    "      ' To reduce this error, increase M or reduce the min-max value used.')"
   ]
  },
  {
   "cell_type": "code",
   "execution_count": null,
   "metadata": {},
   "outputs": [],
   "source": []
  },
  {
   "cell_type": "code",
   "execution_count": null,
   "metadata": {},
   "outputs": [],
   "source": []
  },
  {
   "cell_type": "code",
   "execution_count": null,
   "metadata": {},
   "outputs": [],
   "source": []
  }
 ],
 "metadata": {
  "kernelspec": {
   "display_name": "frog",
   "language": "python",
   "name": "frog"
  },
  "language_info": {
   "codemirror_mode": {
    "name": "ipython",
    "version": 3
   },
   "file_extension": ".py",
   "mimetype": "text/x-python",
   "name": "python",
   "nbconvert_exporter": "python",
   "pygments_lexer": "ipython3",
   "version": "3.11.2"
  }
 },
 "nbformat": 4,
 "nbformat_minor": 4
}
